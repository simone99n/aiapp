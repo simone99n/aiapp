{
 "cells": [
  {
   "cell_type": "code",
   "execution_count": 1,
   "id": "01208a6f",
   "metadata": {},
   "outputs": [
    {
     "data": {
      "text/markdown": [
       "# AI Apps Project: \"Bank Marketing Campaign\"\n",
       "## Norberti Simone && Genovasi Francesco\n"
      ],
      "text/plain": [
       "<IPython.core.display.Markdown object>"
      ]
     },
     "metadata": {},
     "output_type": "display_data"
    }
   ],
   "source": [
    "%%markdown\n",
    "# AI Apps Project: \"Bank Marketing Campaign\"\n",
    "## Norberti Simone && Genovasi Francesco"
   ]
  },
  {
   "cell_type": "code",
   "execution_count": 2,
   "id": "c4ada963",
   "metadata": {},
   "outputs": [
    {
     "data": {
      "text/markdown": [
       "# Import e analisi del Dataset\n"
      ],
      "text/plain": [
       "<IPython.core.display.Markdown object>"
      ]
     },
     "metadata": {},
     "output_type": "display_data"
    }
   ],
   "source": [
    "%%markdown\n",
    "# Import e analisi del Dataset"
   ]
  },
  {
   "cell_type": "code",
   "execution_count": 3,
   "id": "04c45a5a",
   "metadata": {},
   "outputs": [
    {
     "name": "stdout",
     "output_type": "stream",
     "text": [
      "bank.shape: (11162, 17)\n",
      "First 5 rows:\n"
     ]
    },
    {
     "data": {
      "text/html": [
       "<div>\n",
       "<style scoped>\n",
       "    .dataframe tbody tr th:only-of-type {\n",
       "        vertical-align: middle;\n",
       "    }\n",
       "\n",
       "    .dataframe tbody tr th {\n",
       "        vertical-align: top;\n",
       "    }\n",
       "\n",
       "    .dataframe thead th {\n",
       "        text-align: right;\n",
       "    }\n",
       "</style>\n",
       "<table border=\"1\" class=\"dataframe\">\n",
       "  <thead>\n",
       "    <tr style=\"text-align: right;\">\n",
       "      <th></th>\n",
       "      <th>age</th>\n",
       "      <th>job</th>\n",
       "      <th>marital</th>\n",
       "      <th>education</th>\n",
       "      <th>default</th>\n",
       "      <th>balance</th>\n",
       "      <th>housing</th>\n",
       "      <th>loan</th>\n",
       "      <th>contact</th>\n",
       "      <th>day</th>\n",
       "      <th>month</th>\n",
       "      <th>duration</th>\n",
       "      <th>campaign</th>\n",
       "      <th>pdays</th>\n",
       "      <th>previous</th>\n",
       "      <th>poutcome</th>\n",
       "      <th>deposit</th>\n",
       "    </tr>\n",
       "  </thead>\n",
       "  <tbody>\n",
       "    <tr>\n",
       "      <th>0</th>\n",
       "      <td>59</td>\n",
       "      <td>admin.</td>\n",
       "      <td>married</td>\n",
       "      <td>secondary</td>\n",
       "      <td>no</td>\n",
       "      <td>2343</td>\n",
       "      <td>yes</td>\n",
       "      <td>no</td>\n",
       "      <td>unknown</td>\n",
       "      <td>5</td>\n",
       "      <td>may</td>\n",
       "      <td>1042</td>\n",
       "      <td>1</td>\n",
       "      <td>-1</td>\n",
       "      <td>0</td>\n",
       "      <td>unknown</td>\n",
       "      <td>yes</td>\n",
       "    </tr>\n",
       "    <tr>\n",
       "      <th>1</th>\n",
       "      <td>56</td>\n",
       "      <td>admin.</td>\n",
       "      <td>married</td>\n",
       "      <td>secondary</td>\n",
       "      <td>no</td>\n",
       "      <td>45</td>\n",
       "      <td>no</td>\n",
       "      <td>no</td>\n",
       "      <td>unknown</td>\n",
       "      <td>5</td>\n",
       "      <td>may</td>\n",
       "      <td>1467</td>\n",
       "      <td>1</td>\n",
       "      <td>-1</td>\n",
       "      <td>0</td>\n",
       "      <td>unknown</td>\n",
       "      <td>yes</td>\n",
       "    </tr>\n",
       "    <tr>\n",
       "      <th>2</th>\n",
       "      <td>41</td>\n",
       "      <td>technician</td>\n",
       "      <td>married</td>\n",
       "      <td>secondary</td>\n",
       "      <td>no</td>\n",
       "      <td>1270</td>\n",
       "      <td>yes</td>\n",
       "      <td>no</td>\n",
       "      <td>unknown</td>\n",
       "      <td>5</td>\n",
       "      <td>may</td>\n",
       "      <td>1389</td>\n",
       "      <td>1</td>\n",
       "      <td>-1</td>\n",
       "      <td>0</td>\n",
       "      <td>unknown</td>\n",
       "      <td>yes</td>\n",
       "    </tr>\n",
       "    <tr>\n",
       "      <th>3</th>\n",
       "      <td>55</td>\n",
       "      <td>services</td>\n",
       "      <td>married</td>\n",
       "      <td>secondary</td>\n",
       "      <td>no</td>\n",
       "      <td>2476</td>\n",
       "      <td>yes</td>\n",
       "      <td>no</td>\n",
       "      <td>unknown</td>\n",
       "      <td>5</td>\n",
       "      <td>may</td>\n",
       "      <td>579</td>\n",
       "      <td>1</td>\n",
       "      <td>-1</td>\n",
       "      <td>0</td>\n",
       "      <td>unknown</td>\n",
       "      <td>yes</td>\n",
       "    </tr>\n",
       "    <tr>\n",
       "      <th>4</th>\n",
       "      <td>54</td>\n",
       "      <td>admin.</td>\n",
       "      <td>married</td>\n",
       "      <td>tertiary</td>\n",
       "      <td>no</td>\n",
       "      <td>184</td>\n",
       "      <td>no</td>\n",
       "      <td>no</td>\n",
       "      <td>unknown</td>\n",
       "      <td>5</td>\n",
       "      <td>may</td>\n",
       "      <td>673</td>\n",
       "      <td>2</td>\n",
       "      <td>-1</td>\n",
       "      <td>0</td>\n",
       "      <td>unknown</td>\n",
       "      <td>yes</td>\n",
       "    </tr>\n",
       "  </tbody>\n",
       "</table>\n",
       "</div>"
      ],
      "text/plain": [
       "   age         job  marital  education default  balance housing loan  contact  \\\n",
       "0   59      admin.  married  secondary      no     2343     yes   no  unknown   \n",
       "1   56      admin.  married  secondary      no       45      no   no  unknown   \n",
       "2   41  technician  married  secondary      no     1270     yes   no  unknown   \n",
       "3   55    services  married  secondary      no     2476     yes   no  unknown   \n",
       "4   54      admin.  married   tertiary      no      184      no   no  unknown   \n",
       "\n",
       "   day month  duration  campaign  pdays  previous poutcome deposit  \n",
       "0    5   may      1042         1     -1         0  unknown     yes  \n",
       "1    5   may      1467         1     -1         0  unknown     yes  \n",
       "2    5   may      1389         1     -1         0  unknown     yes  \n",
       "3    5   may       579         1     -1         0  unknown     yes  \n",
       "4    5   may       673         2     -1         0  unknown     yes  "
      ]
     },
     "execution_count": 3,
     "metadata": {},
     "output_type": "execute_result"
    }
   ],
   "source": [
    "import pandas as pd\n",
    "def load_bank_data(): \n",
    "    csv_path = \"bank.csv\"\n",
    "    return pd.read_csv(csv_path)\n",
    "\n",
    "bank = load_bank_data()\n",
    "print(\"bank.shape:\", bank.shape)\n",
    "print(\"First 5 rows:\")\n",
    "bank.head()"
   ]
  },
  {
   "cell_type": "code",
   "execution_count": 4,
   "id": "ae7e56cf",
   "metadata": {},
   "outputs": [
    {
     "data": {
      "text/html": [
       "<div>\n",
       "<style scoped>\n",
       "    .dataframe tbody tr th:only-of-type {\n",
       "        vertical-align: middle;\n",
       "    }\n",
       "\n",
       "    .dataframe tbody tr th {\n",
       "        vertical-align: top;\n",
       "    }\n",
       "\n",
       "    .dataframe thead th {\n",
       "        text-align: right;\n",
       "    }\n",
       "</style>\n",
       "<table border=\"1\" class=\"dataframe\">\n",
       "  <thead>\n",
       "    <tr style=\"text-align: right;\">\n",
       "      <th></th>\n",
       "      <th>age</th>\n",
       "      <th>balance</th>\n",
       "      <th>day</th>\n",
       "      <th>duration</th>\n",
       "      <th>campaign</th>\n",
       "      <th>pdays</th>\n",
       "      <th>previous</th>\n",
       "    </tr>\n",
       "  </thead>\n",
       "  <tbody>\n",
       "    <tr>\n",
       "      <th>count</th>\n",
       "      <td>11162.000000</td>\n",
       "      <td>11162.000000</td>\n",
       "      <td>11162.000000</td>\n",
       "      <td>11162.000000</td>\n",
       "      <td>11162.000000</td>\n",
       "      <td>11162.000000</td>\n",
       "      <td>11162.000000</td>\n",
       "    </tr>\n",
       "    <tr>\n",
       "      <th>mean</th>\n",
       "      <td>41.231948</td>\n",
       "      <td>1528.538524</td>\n",
       "      <td>15.658036</td>\n",
       "      <td>371.993818</td>\n",
       "      <td>2.508421</td>\n",
       "      <td>51.330407</td>\n",
       "      <td>0.832557</td>\n",
       "    </tr>\n",
       "    <tr>\n",
       "      <th>std</th>\n",
       "      <td>11.913369</td>\n",
       "      <td>3225.413326</td>\n",
       "      <td>8.420740</td>\n",
       "      <td>347.128386</td>\n",
       "      <td>2.722077</td>\n",
       "      <td>108.758282</td>\n",
       "      <td>2.292007</td>\n",
       "    </tr>\n",
       "    <tr>\n",
       "      <th>min</th>\n",
       "      <td>18.000000</td>\n",
       "      <td>-6847.000000</td>\n",
       "      <td>1.000000</td>\n",
       "      <td>2.000000</td>\n",
       "      <td>1.000000</td>\n",
       "      <td>-1.000000</td>\n",
       "      <td>0.000000</td>\n",
       "    </tr>\n",
       "    <tr>\n",
       "      <th>25%</th>\n",
       "      <td>32.000000</td>\n",
       "      <td>122.000000</td>\n",
       "      <td>8.000000</td>\n",
       "      <td>138.000000</td>\n",
       "      <td>1.000000</td>\n",
       "      <td>-1.000000</td>\n",
       "      <td>0.000000</td>\n",
       "    </tr>\n",
       "    <tr>\n",
       "      <th>50%</th>\n",
       "      <td>39.000000</td>\n",
       "      <td>550.000000</td>\n",
       "      <td>15.000000</td>\n",
       "      <td>255.000000</td>\n",
       "      <td>2.000000</td>\n",
       "      <td>-1.000000</td>\n",
       "      <td>0.000000</td>\n",
       "    </tr>\n",
       "    <tr>\n",
       "      <th>75%</th>\n",
       "      <td>49.000000</td>\n",
       "      <td>1708.000000</td>\n",
       "      <td>22.000000</td>\n",
       "      <td>496.000000</td>\n",
       "      <td>3.000000</td>\n",
       "      <td>20.750000</td>\n",
       "      <td>1.000000</td>\n",
       "    </tr>\n",
       "    <tr>\n",
       "      <th>max</th>\n",
       "      <td>95.000000</td>\n",
       "      <td>81204.000000</td>\n",
       "      <td>31.000000</td>\n",
       "      <td>3881.000000</td>\n",
       "      <td>63.000000</td>\n",
       "      <td>854.000000</td>\n",
       "      <td>58.000000</td>\n",
       "    </tr>\n",
       "  </tbody>\n",
       "</table>\n",
       "</div>"
      ],
      "text/plain": [
       "                age       balance           day      duration      campaign  \\\n",
       "count  11162.000000  11162.000000  11162.000000  11162.000000  11162.000000   \n",
       "mean      41.231948   1528.538524     15.658036    371.993818      2.508421   \n",
       "std       11.913369   3225.413326      8.420740    347.128386      2.722077   \n",
       "min       18.000000  -6847.000000      1.000000      2.000000      1.000000   \n",
       "25%       32.000000    122.000000      8.000000    138.000000      1.000000   \n",
       "50%       39.000000    550.000000     15.000000    255.000000      2.000000   \n",
       "75%       49.000000   1708.000000     22.000000    496.000000      3.000000   \n",
       "max       95.000000  81204.000000     31.000000   3881.000000     63.000000   \n",
       "\n",
       "              pdays      previous  \n",
       "count  11162.000000  11162.000000  \n",
       "mean      51.330407      0.832557  \n",
       "std      108.758282      2.292007  \n",
       "min       -1.000000      0.000000  \n",
       "25%       -1.000000      0.000000  \n",
       "50%       -1.000000      0.000000  \n",
       "75%       20.750000      1.000000  \n",
       "max      854.000000     58.000000  "
      ]
     },
     "execution_count": 4,
     "metadata": {},
     "output_type": "execute_result"
    }
   ],
   "source": [
    "bank.describe() # solo dati numerici"
   ]
  },
  {
   "cell_type": "code",
   "execution_count": 5,
   "id": "a02bb888",
   "metadata": {},
   "outputs": [
    {
     "name": "stdout",
     "output_type": "stream",
     "text": [
      "<class 'pandas.core.frame.DataFrame'>\n",
      "RangeIndex: 11162 entries, 0 to 11161\n",
      "Data columns (total 17 columns):\n",
      " #   Column     Non-Null Count  Dtype \n",
      "---  ------     --------------  ----- \n",
      " 0   age        11162 non-null  int64 \n",
      " 1   job        11162 non-null  object\n",
      " 2   marital    11162 non-null  object\n",
      " 3   education  11162 non-null  object\n",
      " 4   default    11162 non-null  object\n",
      " 5   balance    11162 non-null  int64 \n",
      " 6   housing    11162 non-null  object\n",
      " 7   loan       11162 non-null  object\n",
      " 8   contact    11162 non-null  object\n",
      " 9   day        11162 non-null  int64 \n",
      " 10  month      11162 non-null  object\n",
      " 11  duration   11162 non-null  int64 \n",
      " 12  campaign   11162 non-null  int64 \n",
      " 13  pdays      11162 non-null  int64 \n",
      " 14  previous   11162 non-null  int64 \n",
      " 15  poutcome   11162 non-null  object\n",
      " 16  deposit    11162 non-null  object\n",
      "dtypes: int64(7), object(10)\n",
      "memory usage: 1.4+ MB\n"
     ]
    }
   ],
   "source": [
    "bank.info()"
   ]
  },
  {
   "cell_type": "code",
   "execution_count": 6,
   "id": "31442b71",
   "metadata": {},
   "outputs": [
    {
     "data": {
      "image/png": "[encoded data removed]",
      "text/plain": [
       "<Figure size 2000x1500 with 9 Axes>"
      ]
     },
     "metadata": {},
     "output_type": "display_data"
    }
   ],
   "source": [
    "import matplotlib.pyplot as plt\n",
    "bank.hist(bins=30, figsize=(20,15))\n",
    "plt.show()\n",
    "# vengono mostrati gli istogrammi solo di dati numerici"
   ]
  },
  {
   "cell_type": "code",
   "execution_count": 7,
   "id": "38a22fc0",
   "metadata": {},
   "outputs": [
    {
     "data": {
      "text/plain": [
       "management       2566\n",
       "blue-collar      1944\n",
       "technician       1823\n",
       "admin.           1334\n",
       "services          923\n",
       "retired           778\n",
       "self-employed     405\n",
       "student           360\n",
       "unemployed        357\n",
       "entrepreneur      328\n",
       "housemaid         274\n",
       "unknown            70\n",
       "Name: job, dtype: int64"
      ]
     },
     "execution_count": 7,
     "metadata": {},
     "output_type": "execute_result"
    }
   ],
   "source": [
    "bank[\"job\"].value_counts()"
   ]
  },
  {
   "cell_type": "code",
   "execution_count": 8,
   "id": "85f3d997",
   "metadata": {},
   "outputs": [
    {
     "data": {
      "text/plain": [
       "married     6351\n",
       "single      3518\n",
       "divorced    1293\n",
       "Name: marital, dtype: int64"
      ]
     },
     "execution_count": 8,
     "metadata": {},
     "output_type": "execute_result"
    }
   ],
   "source": [
    "bank[\"marital\"].value_counts()"
   ]
  },
  {
   "cell_type": "code",
   "execution_count": 9,
   "id": "6c1703b3",
   "metadata": {},
   "outputs": [
    {
     "data": {
      "text/plain": [
       "secondary    5476\n",
       "tertiary     3689\n",
       "primary      1500\n",
       "unknown       497\n",
       "Name: education, dtype: int64"
      ]
     },
     "execution_count": 9,
     "metadata": {},
     "output_type": "execute_result"
    }
   ],
   "source": [
    "bank[\"education\"].value_counts()"
   ]
  },
  {
   "cell_type": "code",
   "execution_count": 10,
   "id": "bdb37291",
   "metadata": {},
   "outputs": [
    {
     "data": {
      "text/plain": [
       "no     10994\n",
       "yes      168\n",
       "Name: default, dtype: int64"
      ]
     },
     "execution_count": 10,
     "metadata": {},
     "output_type": "execute_result"
    }
   ],
   "source": [
    "bank[\"default\"].value_counts()"
   ]
  },
  {
   "cell_type": "code",
   "execution_count": 11,
   "id": "bd8d165e",
   "metadata": {},
   "outputs": [
    {
     "data": {
      "text/plain": [
       "no     5881\n",
       "yes    5281\n",
       "Name: housing, dtype: int64"
      ]
     },
     "execution_count": 11,
     "metadata": {},
     "output_type": "execute_result"
    }
   ],
   "source": [
    "bank[\"housing\"].value_counts()"
   ]
  },
  {
   "cell_type": "code",
   "execution_count": 12,
   "id": "f800005d",
   "metadata": {},
   "outputs": [
    {
     "data": {
      "text/plain": [
       "no     9702\n",
       "yes    1460\n",
       "Name: loan, dtype: int64"
      ]
     },
     "execution_count": 12,
     "metadata": {},
     "output_type": "execute_result"
    }
   ],
   "source": [
    "bank[\"loan\"].value_counts()"
   ]
  },
  {
   "cell_type": "code",
   "execution_count": 13,
   "id": "9b97440d",
   "metadata": {},
   "outputs": [
    {
     "data": {
      "text/plain": [
       "cellular     8042\n",
       "unknown      2346\n",
       "telephone     774\n",
       "Name: contact, dtype: int64"
      ]
     },
     "execution_count": 13,
     "metadata": {},
     "output_type": "execute_result"
    }
   ],
   "source": [
    "bank[\"contact\"].value_counts()"
   ]
  },
  {
   "cell_type": "code",
   "execution_count": 14,
   "id": "3ebb4258",
   "metadata": {},
   "outputs": [
    {
     "data": {
      "text/plain": [
       "may    2824\n",
       "aug    1519\n",
       "jul    1514\n",
       "jun    1222\n",
       "nov     943\n",
       "apr     923\n",
       "feb     776\n",
       "oct     392\n",
       "jan     344\n",
       "sep     319\n",
       "mar     276\n",
       "dec     110\n",
       "Name: month, dtype: int64"
      ]
     },
     "execution_count": 14,
     "metadata": {},
     "output_type": "execute_result"
    }
   ],
   "source": [
    "bank[\"month\"].value_counts()"
   ]
  },
  {
   "cell_type": "code",
   "execution_count": 15,
   "id": "f931e92e",
   "metadata": {},
   "outputs": [
    {
     "data": {
      "text/plain": [
       "unknown    8326\n",
       "failure    1228\n",
       "success    1071\n",
       "other       537\n",
       "Name: poutcome, dtype: int64"
      ]
     },
     "execution_count": 15,
     "metadata": {},
     "output_type": "execute_result"
    }
   ],
   "source": [
    "bank[\"poutcome\"].value_counts()"
   ]
  },
  {
   "cell_type": "code",
   "execution_count": 16,
   "id": "04be0b67",
   "metadata": {},
   "outputs": [
    {
     "data": {
      "text/plain": [
       "no     5873\n",
       "yes    5289\n",
       "Name: deposit, dtype: int64"
      ]
     },
     "execution_count": 16,
     "metadata": {},
     "output_type": "execute_result"
    }
   ],
   "source": [
    "bank[\"deposit\"].value_counts()"
   ]
  },
  {
   "cell_type": "code",
   "execution_count": 17,
   "id": "dd50ca26",
   "metadata": {},
   "outputs": [],
   "source": [
    "bank_with_id = bank.reset_index() # adds an `index` column"
   ]
  },
  {
   "cell_type": "code",
   "execution_count": 18,
   "id": "7eb9b4e1",
   "metadata": {
    "scrolled": true
   },
   "outputs": [
    {
     "data": {
      "text/html": [
       "<div>\n",
       "<style scoped>\n",
       "    .dataframe tbody tr th:only-of-type {\n",
       "        vertical-align: middle;\n",
       "    }\n",
       "\n",
       "    .dataframe tbody tr th {\n",
       "        vertical-align: top;\n",
       "    }\n",
       "\n",
       "    .dataframe thead th {\n",
       "        text-align: right;\n",
       "    }\n",
       "</style>\n",
       "<table border=\"1\" class=\"dataframe\">\n",
       "  <thead>\n",
       "    <tr style=\"text-align: right;\">\n",
       "      <th></th>\n",
       "      <th>index</th>\n",
       "      <th>age</th>\n",
       "      <th>job</th>\n",
       "      <th>marital</th>\n",
       "      <th>education</th>\n",
       "      <th>default</th>\n",
       "      <th>balance</th>\n",
       "      <th>housing</th>\n",
       "      <th>loan</th>\n",
       "      <th>contact</th>\n",
       "      <th>day</th>\n",
       "      <th>month</th>\n",
       "      <th>duration</th>\n",
       "      <th>campaign</th>\n",
       "      <th>pdays</th>\n",
       "      <th>previous</th>\n",
       "      <th>poutcome</th>\n",
       "      <th>deposit</th>\n",
       "    </tr>\n",
       "  </thead>\n",
       "  <tbody>\n",
       "    <tr>\n",
       "      <th>0</th>\n",
       "      <td>0</td>\n",
       "      <td>59</td>\n",
       "      <td>admin.</td>\n",
       "      <td>married</td>\n",
       "      <td>secondary</td>\n",
       "      <td>no</td>\n",
       "      <td>2343</td>\n",
       "      <td>yes</td>\n",
       "      <td>no</td>\n",
       "      <td>unknown</td>\n",
       "      <td>5</td>\n",
       "      <td>may</td>\n",
       "      <td>1042</td>\n",
       "      <td>1</td>\n",
       "      <td>-1</td>\n",
       "      <td>0</td>\n",
       "      <td>unknown</td>\n",
       "      <td>yes</td>\n",
       "    </tr>\n",
       "    <tr>\n",
       "      <th>1</th>\n",
       "      <td>1</td>\n",
       "      <td>56</td>\n",
       "      <td>admin.</td>\n",
       "      <td>married</td>\n",
       "      <td>secondary</td>\n",
       "      <td>no</td>\n",
       "      <td>45</td>\n",
       "      <td>no</td>\n",
       "      <td>no</td>\n",
       "      <td>unknown</td>\n",
       "      <td>5</td>\n",
       "      <td>may</td>\n",
       "      <td>1467</td>\n",
       "      <td>1</td>\n",
       "      <td>-1</td>\n",
       "      <td>0</td>\n",
       "      <td>unknown</td>\n",
       "      <td>yes</td>\n",
       "    </tr>\n",
       "    <tr>\n",
       "      <th>2</th>\n",
       "      <td>2</td>\n",
       "      <td>41</td>\n",
       "      <td>technician</td>\n",
       "      <td>married</td>\n",
       "      <td>secondary</td>\n",
       "      <td>no</td>\n",
       "      <td>1270</td>\n",
       "      <td>yes</td>\n",
       "      <td>no</td>\n",
       "      <td>unknown</td>\n",
       "      <td>5</td>\n",
       "      <td>may</td>\n",
       "      <td>1389</td>\n",
       "      <td>1</td>\n",
       "      <td>-1</td>\n",
       "      <td>0</td>\n",
       "      <td>unknown</td>\n",
       "      <td>yes</td>\n",
       "    </tr>\n",
       "    <tr>\n",
       "      <th>3</th>\n",
       "      <td>3</td>\n",
       "      <td>55</td>\n",
       "      <td>services</td>\n",
       "      <td>married</td>\n",
       "      <td>secondary</td>\n",
       "      <td>no</td>\n",
       "      <td>2476</td>\n",
       "      <td>yes</td>\n",
       "      <td>no</td>\n",
       "      <td>unknown</td>\n",
       "      <td>5</td>\n",
       "      <td>may</td>\n",
       "      <td>579</td>\n",
       "      <td>1</td>\n",
       "      <td>-1</td>\n",
       "      <td>0</td>\n",
       "      <td>unknown</td>\n",
       "      <td>yes</td>\n",
       "    </tr>\n",
       "    <tr>\n",
       "      <th>4</th>\n",
       "      <td>4</td>\n",
       "      <td>54</td>\n",
       "      <td>admin.</td>\n",
       "      <td>married</td>\n",
       "      <td>tertiary</td>\n",
       "      <td>no</td>\n",
       "      <td>184</td>\n",
       "      <td>no</td>\n",
       "      <td>no</td>\n",
       "      <td>unknown</td>\n",
       "      <td>5</td>\n",
       "      <td>may</td>\n",
       "      <td>673</td>\n",
       "      <td>2</td>\n",
       "      <td>-1</td>\n",
       "      <td>0</td>\n",
       "      <td>unknown</td>\n",
       "      <td>yes</td>\n",
       "    </tr>\n",
       "  </tbody>\n",
       "</table>\n",
       "</div>"
      ],
      "text/plain": [
       "   index  age         job  marital  education default  balance housing loan  \\\n",
       "0      0   59      admin.  married  secondary      no     2343     yes   no   \n",
       "1      1   56      admin.  married  secondary      no       45      no   no   \n",
       "2      2   41  technician  married  secondary      no     1270     yes   no   \n",
       "3      3   55    services  married  secondary      no     2476     yes   no   \n",
       "4      4   54      admin.  married   tertiary      no      184      no   no   \n",
       "\n",
       "   contact  day month  duration  campaign  pdays  previous poutcome deposit  \n",
       "0  unknown    5   may      1042         1     -1         0  unknown     yes  \n",
       "1  unknown    5   may      1467         1     -1         0  unknown     yes  \n",
       "2  unknown    5   may      1389         1     -1         0  unknown     yes  \n",
       "3  unknown    5   may       579         1     -1         0  unknown     yes  \n",
       "4  unknown    5   may       673         2     -1         0  unknown     yes  "
      ]
     },
     "execution_count": 18,
     "metadata": {},
     "output_type": "execute_result"
    }
   ],
   "source": [
    "bank_with_id.head()"
   ]
  },
  {
   "cell_type": "code",
   "execution_count": 19,
   "id": "abcf271a",
   "metadata": {},
   "outputs": [
    {
     "data": {
      "text/markdown": [
       "# Pre-processing\n"
      ],
      "text/plain": [
       "<IPython.core.display.Markdown object>"
      ]
     },
     "metadata": {},
     "output_type": "display_data"
    }
   ],
   "source": [
    "%%markdown\n",
    "# Pre-processing"
   ]
  },
  {
   "cell_type": "code",
   "execution_count": 20,
   "id": "f29a61b8",
   "metadata": {},
   "outputs": [],
   "source": [
    "import numpy as np\n",
    "bank[\"age_bin\"] = pd.cut(bank[\"age\"],\n",
    "                               bins=[0., 30, 60, np.inf],\n",
    "                               labels=[1, 2, 3])"
   ]
  },
  {
   "cell_type": "code",
   "execution_count": 21,
   "id": "feb0333c",
   "metadata": {
    "scrolled": false
   },
   "outputs": [],
   "source": [
    "# bank[120:180]"
   ]
  },
  {
   "cell_type": "code",
   "execution_count": 22,
   "id": "0b49c772",
   "metadata": {},
   "outputs": [],
   "source": [
    "bank = bank.drop(labels=['age'], axis=1)"
   ]
  },
  {
   "cell_type": "code",
   "execution_count": null,
   "id": "368599a0",
   "metadata": {},
   "outputs": [],
   "source": []
  },
  {
   "cell_type": "code",
   "execution_count": 23,
   "id": "07dca63f",
   "metadata": {},
   "outputs": [
    {
     "data": {
      "text/plain": [
       "'\\nfrom sklearn.model_selection import StratifiedShuffleSplit\\n\\nsplit = StratifiedShuffleSplit(n_splits=1, test_size=0.2, random_state=42)\\nfor train_index, test_index in split.split(bank, bank[\"deposit\"]):\\n    strat_train_set = bank.loc[train_index]\\n    strat_test_set = bank.loc[test_index]\\n'"
      ]
     },
     "execution_count": 23,
     "metadata": {},
     "output_type": "execute_result"
    }
   ],
   "source": [
    "'''\n",
    "from sklearn.model_selection import StratifiedShuffleSplit\n",
    "\n",
    "split = StratifiedShuffleSplit(n_splits=1, test_size=0.2, random_state=42)\n",
    "for train_index, test_index in split.split(bank, bank[\"deposit\"]):\n",
    "    strat_train_set = bank.loc[train_index]\n",
    "    strat_test_set = bank.loc[test_index]\n",
    "'''"
   ]
  },
  {
   "cell_type": "code",
   "execution_count": 24,
   "id": "c812a9ae",
   "metadata": {
    "scrolled": true
   },
   "outputs": [],
   "source": [
    "#strat_test_set.head()"
   ]
  },
  {
   "cell_type": "code",
   "execution_count": 25,
   "id": "4c547c8d",
   "metadata": {},
   "outputs": [],
   "source": [
    "# bank[\"deposit\"].value_counts()/len(bank)"
   ]
  },
  {
   "cell_type": "code",
   "execution_count": 26,
   "id": "7ce7f2ff",
   "metadata": {},
   "outputs": [],
   "source": [
    "# strat_train_set[\"deposit\"].value_counts()/len(strat_train_set)"
   ]
  },
  {
   "cell_type": "code",
   "execution_count": 27,
   "id": "bccda712",
   "metadata": {},
   "outputs": [],
   "source": [
    "# strat_test_set[\"deposit\"].value_counts()/len(strat_test_set)"
   ]
  },
  {
   "cell_type": "code",
   "execution_count": 28,
   "id": "3502efcf",
   "metadata": {},
   "outputs": [
    {
     "data": {
      "text/markdown": [
       "### Valori null: scegliere tra questi 3 approcci: median, drop attr, drop rows\n",
       "### If there were missing values we will have to fill them with the median, mean or mode.\n"
      ],
      "text/plain": [
       "<IPython.core.display.Markdown object>"
      ]
     },
     "metadata": {},
     "output_type": "display_data"
    }
   ],
   "source": [
    "%%markdown\n",
    "### Valori null: scegliere tra questi 3 approcci: median, drop attr, drop rows\n",
    "### If there were missing values we will have to fill them with the median, mean or mode."
   ]
  },
  {
   "cell_type": "code",
   "execution_count": null,
   "id": "fc58bae5",
   "metadata": {},
   "outputs": [],
   "source": []
  },
  {
   "cell_type": "code",
   "execution_count": 29,
   "id": "207de15a",
   "metadata": {},
   "outputs": [],
   "source": [
    "num_attribs = [\"balance\",\"day\",\"duration\",\"campaign\",\"pdays\", \"previous\", \"age_bin\"]\n",
    "cat_attribs = [\"job\", \"marital\", \"education\", \"default\", \"housing\", \"loan\",\n",
    "              \"contact\", \"month\", \"poutcome\", \"deposit\"]\n",
    "\n",
    "# bank_num = strat_train_set.drop(cat_attribs, axis=1)\n",
    "bank_num = bank.drop(cat_attribs, axis=1)\n",
    "bank_tr = pd.DataFrame(bank_num, columns=bank_num.columns)"
   ]
  },
  {
   "cell_type": "code",
   "execution_count": 30,
   "id": "94b2cc33",
   "metadata": {},
   "outputs": [],
   "source": [
    "# bank_tr.columns.values.tolist()"
   ]
  },
  {
   "cell_type": "code",
   "execution_count": 31,
   "id": "aa219490",
   "metadata": {
    "scrolled": true
   },
   "outputs": [
    {
     "data": {
      "text/html": [
       "<div>\n",
       "<style scoped>\n",
       "    .dataframe tbody tr th:only-of-type {\n",
       "        vertical-align: middle;\n",
       "    }\n",
       "\n",
       "    .dataframe tbody tr th {\n",
       "        vertical-align: top;\n",
       "    }\n",
       "\n",
       "    .dataframe thead th {\n",
       "        text-align: right;\n",
       "    }\n",
       "</style>\n",
       "<table border=\"1\" class=\"dataframe\">\n",
       "  <thead>\n",
       "    <tr style=\"text-align: right;\">\n",
       "      <th></th>\n",
       "      <th>balance</th>\n",
       "      <th>day</th>\n",
       "      <th>duration</th>\n",
       "      <th>campaign</th>\n",
       "      <th>pdays</th>\n",
       "      <th>previous</th>\n",
       "    </tr>\n",
       "  </thead>\n",
       "  <tbody>\n",
       "    <tr>\n",
       "      <th>count</th>\n",
       "      <td>11162.000000</td>\n",
       "      <td>11162.000000</td>\n",
       "      <td>11162.000000</td>\n",
       "      <td>11162.000000</td>\n",
       "      <td>11162.000000</td>\n",
       "      <td>11162.000000</td>\n",
       "    </tr>\n",
       "    <tr>\n",
       "      <th>mean</th>\n",
       "      <td>1528.538524</td>\n",
       "      <td>15.658036</td>\n",
       "      <td>371.993818</td>\n",
       "      <td>2.508421</td>\n",
       "      <td>51.330407</td>\n",
       "      <td>0.832557</td>\n",
       "    </tr>\n",
       "    <tr>\n",
       "      <th>std</th>\n",
       "      <td>3225.413326</td>\n",
       "      <td>8.420740</td>\n",
       "      <td>347.128386</td>\n",
       "      <td>2.722077</td>\n",
       "      <td>108.758282</td>\n",
       "      <td>2.292007</td>\n",
       "    </tr>\n",
       "    <tr>\n",
       "      <th>min</th>\n",
       "      <td>-6847.000000</td>\n",
       "      <td>1.000000</td>\n",
       "      <td>2.000000</td>\n",
       "      <td>1.000000</td>\n",
       "      <td>-1.000000</td>\n",
       "      <td>0.000000</td>\n",
       "    </tr>\n",
       "    <tr>\n",
       "      <th>25%</th>\n",
       "      <td>122.000000</td>\n",
       "      <td>8.000000</td>\n",
       "      <td>138.000000</td>\n",
       "      <td>1.000000</td>\n",
       "      <td>-1.000000</td>\n",
       "      <td>0.000000</td>\n",
       "    </tr>\n",
       "    <tr>\n",
       "      <th>50%</th>\n",
       "      <td>550.000000</td>\n",
       "      <td>15.000000</td>\n",
       "      <td>255.000000</td>\n",
       "      <td>2.000000</td>\n",
       "      <td>-1.000000</td>\n",
       "      <td>0.000000</td>\n",
       "    </tr>\n",
       "    <tr>\n",
       "      <th>75%</th>\n",
       "      <td>1708.000000</td>\n",
       "      <td>22.000000</td>\n",
       "      <td>496.000000</td>\n",
       "      <td>3.000000</td>\n",
       "      <td>20.750000</td>\n",
       "      <td>1.000000</td>\n",
       "    </tr>\n",
       "    <tr>\n",
       "      <th>max</th>\n",
       "      <td>81204.000000</td>\n",
       "      <td>31.000000</td>\n",
       "      <td>3881.000000</td>\n",
       "      <td>63.000000</td>\n",
       "      <td>854.000000</td>\n",
       "      <td>58.000000</td>\n",
       "    </tr>\n",
       "  </tbody>\n",
       "</table>\n",
       "</div>"
      ],
      "text/plain": [
       "            balance           day      duration      campaign         pdays  \\\n",
       "count  11162.000000  11162.000000  11162.000000  11162.000000  11162.000000   \n",
       "mean    1528.538524     15.658036    371.993818      2.508421     51.330407   \n",
       "std     3225.413326      8.420740    347.128386      2.722077    108.758282   \n",
       "min    -6847.000000      1.000000      2.000000      1.000000     -1.000000   \n",
       "25%      122.000000      8.000000    138.000000      1.000000     -1.000000   \n",
       "50%      550.000000     15.000000    255.000000      2.000000     -1.000000   \n",
       "75%     1708.000000     22.000000    496.000000      3.000000     20.750000   \n",
       "max    81204.000000     31.000000   3881.000000     63.000000    854.000000   \n",
       "\n",
       "           previous  \n",
       "count  11162.000000  \n",
       "mean       0.832557  \n",
       "std        2.292007  \n",
       "min        0.000000  \n",
       "25%        0.000000  \n",
       "50%        0.000000  \n",
       "75%        1.000000  \n",
       "max       58.000000  "
      ]
     },
     "execution_count": 31,
     "metadata": {},
     "output_type": "execute_result"
    }
   ],
   "source": [
    "bank_tr.describe()"
   ]
  },
  {
   "cell_type": "code",
   "execution_count": 32,
   "id": "19b1f7fe",
   "metadata": {},
   "outputs": [],
   "source": [
    "\n",
    "# bank_num_tr = numerical_pipeline.fit_transform(bank_num)\n",
    "# bank_num_tr_df = pd.DataFrame(bank_num_tr, columns=num_attribs)"
   ]
  },
  {
   "cell_type": "code",
   "execution_count": 33,
   "id": "e3834aa6",
   "metadata": {},
   "outputs": [],
   "source": [
    "# bank_num_tr[0]"
   ]
  },
  {
   "cell_type": "code",
   "execution_count": 34,
   "id": "e4d5c205",
   "metadata": {},
   "outputs": [
    {
     "data": {
      "text/plain": [
       "' (non usato)\\nfrom sklearn.compose import ColumnTransformer\\nfrom sklearn.preprocessing import OrdinalEncoder\\n\\nnum_attribs = [\"age\", \"balance\",\"day\",\"duration\",\"campaign\",\"pdays\", \"previous\"]\\ncat_attribs = [\"job\", \"marital\", \"education\", \"default\", \"housing\", \"loan\",\\n              \"contact\", \"month\", \"poutcome\", \"deposit\"]\\n     \\nfull_pipeline = ColumnTransformer([\\n    (\"num\", numerical_pipeline, num_attribs),\\n    (\"cat\", OrdinalEncoder(), cat_attribs),\\n])\\n\\nbank_prepared = full_pipeline.fit_transform(strat_train_set)\\nbank_prepared[0]\\n'"
      ]
     },
     "execution_count": 34,
     "metadata": {},
     "output_type": "execute_result"
    }
   ],
   "source": [
    "''' (non usato)\n",
    "from sklearn.compose import ColumnTransformer\n",
    "from sklearn.preprocessing import OrdinalEncoder\n",
    "\n",
    "num_attribs = [\"age\", \"balance\",\"day\",\"duration\",\"campaign\",\"pdays\", \"previous\"]\n",
    "cat_attribs = [\"job\", \"marital\", \"education\", \"default\", \"housing\", \"loan\",\n",
    "              \"contact\", \"month\", \"poutcome\", \"deposit\"]\n",
    "     \n",
    "full_pipeline = ColumnTransformer([\n",
    "    (\"num\", numerical_pipeline, num_attribs),\n",
    "    (\"cat\", OrdinalEncoder(), cat_attribs),\n",
    "])\n",
    "\n",
    "bank_prepared = full_pipeline.fit_transform(strat_train_set)\n",
    "bank_prepared[0]\n",
    "'''"
   ]
  },
  {
   "cell_type": "code",
   "execution_count": 35,
   "id": "77b039c8",
   "metadata": {},
   "outputs": [],
   "source": [
    "from sklearn.compose import ColumnTransformer\n",
    "from sklearn.preprocessing import OrdinalEncoder\n",
    "from sklearn.preprocessing import OneHotEncoder\n",
    "\n",
    "from sklearn.pipeline import Pipeline\n",
    "\n",
    "from sklearn.impute import SimpleImputer\n",
    "from sklearn.preprocessing import StandardScaler\n",
    "from sklearn.preprocessing import OrdinalEncoder\n",
    "\n",
    "num_attribs = [\"balance\",\"day\",\"duration\",\"campaign\",\"pdays\", \"previous\"]\n",
    "bin_attribs = [\"default\", \"housing\", \"loan\", \"deposit\"]\n",
    "cat_attribs = [\"age_bin\", \"job\", \"marital\", \"education\", \"contact\", \"month\", \"poutcome\"]\n",
    "\n",
    "numerical_pipeline = Pipeline([\n",
    "        ('imputer', SimpleImputer(strategy=\"median\")),\n",
    "        #('attribs_adder', CombinedAttributesAdder()),\n",
    "        ('std_scaler', StandardScaler()),\n",
    "     ])\n",
    "     \n",
    "full_pipeline = ColumnTransformer([\n",
    "    (\"num\", numerical_pipeline, num_attribs),\n",
    "    (\"bin\", OrdinalEncoder(), bin_attribs),\n",
    "    (\"cat\", OneHotEncoder(), cat_attribs),\n",
    "])\n",
    "\n",
    "# bank_prepared = full_pipeline.fit_transform(strat_train_set)\n",
    "bank_transformed = full_pipeline.fit_transform(bank)\n",
    "# bank_transformed[0]"
   ]
  },
  {
   "cell_type": "code",
   "execution_count": 66,
   "id": "845386ee",
   "metadata": {},
   "outputs": [
    {
     "data": {
      "text/plain": [
       "array([ 0.25252514, -1.26574556,  1.93022589, -0.55416834, -0.48118405,\n",
       "       -0.36325984,  0.        ,  1.        ,  0.        ,  1.        ,\n",
       "        0.        ,  1.        ,  0.        ,  1.        ,  0.        ,\n",
       "        0.        ,  0.        ,  0.        ,  0.        ,  0.        ,\n",
       "        0.        ,  0.        ,  0.        ,  0.        ,  0.        ,\n",
       "        0.        ,  1.        ,  0.        ,  0.        ,  1.        ,\n",
       "        0.        ,  0.        ,  0.        ,  0.        ,  1.        ,\n",
       "        0.        ,  0.        ,  0.        ,  0.        ,  0.        ,\n",
       "        0.        ,  0.        ,  0.        ,  1.        ,  0.        ,\n",
       "        0.        ,  0.        ,  0.        ,  0.        ,  0.        ,\n",
       "        1.        ])"
      ]
     },
     "execution_count": 66,
     "metadata": {},
     "output_type": "execute_result"
    }
   ],
   "source": [
    "# bank_transformed[0]"
   ]
  },
  {
   "cell_type": "code",
   "execution_count": 67,
   "id": "33abe2b7",
   "metadata": {
    "scrolled": false
   },
   "outputs": [
    {
     "data": {
      "text/plain": [
       "[array([1, 2, 3]),\n",
       " array(['admin.', 'blue-collar', 'entrepreneur', 'housemaid', 'management',\n",
       "        'retired', 'self-employed', 'services', 'student', 'technician',\n",
       "        'unemployed', 'unknown'], dtype=object),\n",
       " array(['divorced', 'married', 'single'], dtype=object),\n",
       " array(['primary', 'secondary', 'tertiary', 'unknown'], dtype=object),\n",
       " array(['cellular', 'telephone', 'unknown'], dtype=object),\n",
       " array(['apr', 'aug', 'dec', 'feb', 'jan', 'jul', 'jun', 'mar', 'may',\n",
       "        'nov', 'oct', 'sep'], dtype=object),\n",
       " array(['failure', 'other', 'success', 'unknown'], dtype=object)]"
      ]
     },
     "execution_count": 67,
     "metadata": {},
     "output_type": "execute_result"
    }
   ],
   "source": [
    "#full_pipeline.named_transformers_['cat'].categories_"
   ]
  },
  {
   "cell_type": "code",
   "execution_count": 37,
   "id": "dfb4d9cb",
   "metadata": {},
   "outputs": [],
   "source": [
    "cat_onehot = ['age0-30', 'age30-60', 'age60-95',\n",
    "              'job_admin.', 'job_blue-collar', 'job_entrepreneur', 'job_housemaid', 'job_management', \n",
    "              'job_retired', 'job_self-employed', 'job_services', 'job_student', 'job_technician', \n",
    "              'job_unemployed', 'job_unknown', 'marital_divorced', 'marital_married', 'marital_single', \n",
    "              'education_primary', 'education_secondary', 'education_tertiary', 'education_unknown', \n",
    "              'contact_cellular', \n",
    "              'contact_telephone', 'contact_unknown', 'month_apr', 'month_aug', 'month_dec', 'month_feb', \n",
    "              'month_jan', 'month_jul', 'month_jun', 'month_mar', 'month_may', 'month_nov', 'month_oct', \n",
    "              'month_sep', 'poutcome_failure', 'poutcome_other', 'poutcome_success', 'poutcome_unknown']\n",
    "attrs = num_attribs + bin_attribs + cat_onehot\n",
    "bank_transformed_df = pd.DataFrame(bank_transformed, columns=attrs)"
   ]
  },
  {
   "cell_type": "code",
   "execution_count": 69,
   "id": "50b28863",
   "metadata": {},
   "outputs": [
    {
     "data": {
      "text/html": [
       "<div>\n",
       "<style scoped>\n",
       "    .dataframe tbody tr th:only-of-type {\n",
       "        vertical-align: middle;\n",
       "    }\n",
       "\n",
       "    .dataframe tbody tr th {\n",
       "        vertical-align: top;\n",
       "    }\n",
       "\n",
       "    .dataframe thead th {\n",
       "        text-align: right;\n",
       "    }\n",
       "</style>\n",
       "<table border=\"1\" class=\"dataframe\">\n",
       "  <thead>\n",
       "    <tr style=\"text-align: right;\">\n",
       "      <th></th>\n",
       "      <th>balance</th>\n",
       "      <th>day</th>\n",
       "      <th>duration</th>\n",
       "      <th>campaign</th>\n",
       "      <th>pdays</th>\n",
       "      <th>previous</th>\n",
       "      <th>default</th>\n",
       "      <th>housing</th>\n",
       "      <th>loan</th>\n",
       "      <th>deposit</th>\n",
       "      <th>...</th>\n",
       "      <th>month_jun</th>\n",
       "      <th>month_mar</th>\n",
       "      <th>month_may</th>\n",
       "      <th>month_nov</th>\n",
       "      <th>month_oct</th>\n",
       "      <th>month_sep</th>\n",
       "      <th>poutcome_failure</th>\n",
       "      <th>poutcome_other</th>\n",
       "      <th>poutcome_success</th>\n",
       "      <th>poutcome_unknown</th>\n",
       "    </tr>\n",
       "  </thead>\n",
       "  <tbody>\n",
       "    <tr>\n",
       "      <th>0</th>\n",
       "      <td>0.252525</td>\n",
       "      <td>-1.265746</td>\n",
       "      <td>1.930226</td>\n",
       "      <td>-0.554168</td>\n",
       "      <td>-0.481184</td>\n",
       "      <td>-0.36326</td>\n",
       "      <td>0.0</td>\n",
       "      <td>1.0</td>\n",
       "      <td>0.0</td>\n",
       "      <td>1.0</td>\n",
       "      <td>...</td>\n",
       "      <td>0.0</td>\n",
       "      <td>0.0</td>\n",
       "      <td>1.0</td>\n",
       "      <td>0.0</td>\n",
       "      <td>0.0</td>\n",
       "      <td>0.0</td>\n",
       "      <td>0.0</td>\n",
       "      <td>0.0</td>\n",
       "      <td>0.0</td>\n",
       "      <td>1.0</td>\n",
       "    </tr>\n",
       "    <tr>\n",
       "      <th>1</th>\n",
       "      <td>-0.459974</td>\n",
       "      <td>-1.265746</td>\n",
       "      <td>3.154612</td>\n",
       "      <td>-0.554168</td>\n",
       "      <td>-0.481184</td>\n",
       "      <td>-0.36326</td>\n",
       "      <td>0.0</td>\n",
       "      <td>0.0</td>\n",
       "      <td>0.0</td>\n",
       "      <td>1.0</td>\n",
       "      <td>...</td>\n",
       "      <td>0.0</td>\n",
       "      <td>0.0</td>\n",
       "      <td>1.0</td>\n",
       "      <td>0.0</td>\n",
       "      <td>0.0</td>\n",
       "      <td>0.0</td>\n",
       "      <td>0.0</td>\n",
       "      <td>0.0</td>\n",
       "      <td>0.0</td>\n",
       "      <td>1.0</td>\n",
       "    </tr>\n",
       "    <tr>\n",
       "      <th>2</th>\n",
       "      <td>-0.080160</td>\n",
       "      <td>-1.265746</td>\n",
       "      <td>2.929901</td>\n",
       "      <td>-0.554168</td>\n",
       "      <td>-0.481184</td>\n",
       "      <td>-0.36326</td>\n",
       "      <td>0.0</td>\n",
       "      <td>1.0</td>\n",
       "      <td>0.0</td>\n",
       "      <td>1.0</td>\n",
       "      <td>...</td>\n",
       "      <td>0.0</td>\n",
       "      <td>0.0</td>\n",
       "      <td>1.0</td>\n",
       "      <td>0.0</td>\n",
       "      <td>0.0</td>\n",
       "      <td>0.0</td>\n",
       "      <td>0.0</td>\n",
       "      <td>0.0</td>\n",
       "      <td>0.0</td>\n",
       "      <td>1.0</td>\n",
       "    </tr>\n",
       "    <tr>\n",
       "      <th>3</th>\n",
       "      <td>0.293762</td>\n",
       "      <td>-1.265746</td>\n",
       "      <td>0.596366</td>\n",
       "      <td>-0.554168</td>\n",
       "      <td>-0.481184</td>\n",
       "      <td>-0.36326</td>\n",
       "      <td>0.0</td>\n",
       "      <td>1.0</td>\n",
       "      <td>0.0</td>\n",
       "      <td>1.0</td>\n",
       "      <td>...</td>\n",
       "      <td>0.0</td>\n",
       "      <td>0.0</td>\n",
       "      <td>1.0</td>\n",
       "      <td>0.0</td>\n",
       "      <td>0.0</td>\n",
       "      <td>0.0</td>\n",
       "      <td>0.0</td>\n",
       "      <td>0.0</td>\n",
       "      <td>0.0</td>\n",
       "      <td>1.0</td>\n",
       "    </tr>\n",
       "    <tr>\n",
       "      <th>4</th>\n",
       "      <td>-0.416876</td>\n",
       "      <td>-1.265746</td>\n",
       "      <td>0.867171</td>\n",
       "      <td>-0.186785</td>\n",
       "      <td>-0.481184</td>\n",
       "      <td>-0.36326</td>\n",
       "      <td>0.0</td>\n",
       "      <td>0.0</td>\n",
       "      <td>0.0</td>\n",
       "      <td>1.0</td>\n",
       "      <td>...</td>\n",
       "      <td>0.0</td>\n",
       "      <td>0.0</td>\n",
       "      <td>1.0</td>\n",
       "      <td>0.0</td>\n",
       "      <td>0.0</td>\n",
       "      <td>0.0</td>\n",
       "      <td>0.0</td>\n",
       "      <td>0.0</td>\n",
       "      <td>0.0</td>\n",
       "      <td>1.0</td>\n",
       "    </tr>\n",
       "  </tbody>\n",
       "</table>\n",
       "<p>5 rows × 51 columns</p>\n",
       "</div>"
      ],
      "text/plain": [
       "    balance       day  duration  campaign     pdays  previous  default  \\\n",
       "0  0.252525 -1.265746  1.930226 -0.554168 -0.481184  -0.36326      0.0   \n",
       "1 -0.459974 -1.265746  3.154612 -0.554168 -0.481184  -0.36326      0.0   \n",
       "2 -0.080160 -1.265746  2.929901 -0.554168 -0.481184  -0.36326      0.0   \n",
       "3  0.293762 -1.265746  0.596366 -0.554168 -0.481184  -0.36326      0.0   \n",
       "4 -0.416876 -1.265746  0.867171 -0.186785 -0.481184  -0.36326      0.0   \n",
       "\n",
       "   housing  loan  deposit  ...  month_jun  month_mar  month_may  month_nov  \\\n",
       "0      1.0   0.0      1.0  ...        0.0        0.0        1.0        0.0   \n",
       "1      0.0   0.0      1.0  ...        0.0        0.0        1.0        0.0   \n",
       "2      1.0   0.0      1.0  ...        0.0        0.0        1.0        0.0   \n",
       "3      1.0   0.0      1.0  ...        0.0        0.0        1.0        0.0   \n",
       "4      0.0   0.0      1.0  ...        0.0        0.0        1.0        0.0   \n",
       "\n",
       "   month_oct  month_sep  poutcome_failure  poutcome_other  poutcome_success  \\\n",
       "0        0.0        0.0               0.0             0.0               0.0   \n",
       "1        0.0        0.0               0.0             0.0               0.0   \n",
       "2        0.0        0.0               0.0             0.0               0.0   \n",
       "3        0.0        0.0               0.0             0.0               0.0   \n",
       "4        0.0        0.0               0.0             0.0               0.0   \n",
       "\n",
       "   poutcome_unknown  \n",
       "0               1.0  \n",
       "1               1.0  \n",
       "2               1.0  \n",
       "3               1.0  \n",
       "4               1.0  \n",
       "\n",
       "[5 rows x 51 columns]"
      ]
     },
     "execution_count": 69,
     "metadata": {},
     "output_type": "execute_result"
    }
   ],
   "source": [
    "# bank_transformed_df.head()"
   ]
  },
  {
   "cell_type": "code",
   "execution_count": 39,
   "id": "6cddddb6",
   "metadata": {
    "scrolled": false
   },
   "outputs": [
    {
     "data": {
      "text/plain": [
       "deposit                1.000000\n",
       "duration               0.451919\n",
       "poutcome_success       0.286642\n",
       "contact_cellular       0.223252\n",
       "age60-95               0.167604\n",
       "pdays                  0.151593\n",
       "previous               0.139867\n",
       "month_mar              0.135438\n",
       "month_oct              0.133783\n",
       "month_sep              0.126901\n",
       "job_retired            0.103827\n",
       "job_student            0.099953\n",
       "marital_single         0.094632\n",
       "education_tertiary     0.094598\n",
       "month_apr              0.090975\n",
       "age0-30                0.090643\n",
       "month_dec              0.086964\n",
       "balance                0.081129\n",
       "month_feb              0.051710\n",
       "poutcome_other         0.044059\n",
       "job_management         0.036301\n",
       "job_unemployed         0.033487\n",
       "poutcome_failure       0.020714\n",
       "contact_telephone      0.016420\n",
       "education_unknown      0.014355\n",
       "marital_divorced       0.005228\n",
       "job_unknown            0.001889\n",
       "job_admin.            -0.000610\n",
       "job_self-employed     -0.004707\n",
       "job_technician        -0.011557\n",
       "month_aug             -0.016621\n",
       "month_jun             -0.018982\n",
       "month_jan             -0.021803\n",
       "job_housemaid         -0.024155\n",
       "month_nov             -0.028278\n",
       "job_entrepreneur      -0.034443\n",
       "default               -0.040680\n",
       "job_services          -0.044531\n",
       "month_jul             -0.047368\n",
       "education_secondary   -0.051952\n",
       "day                   -0.056326\n",
       "education_primary     -0.063002\n",
       "marital_married       -0.092157\n",
       "job_blue-collar       -0.100840\n",
       "loan                  -0.110580\n",
       "campaign              -0.128081\n",
       "month_may             -0.170507\n",
       "age30-60              -0.172130\n",
       "housing               -0.203888\n",
       "poutcome_unknown      -0.230470\n",
       "contact_unknown       -0.256136\n",
       "Name: deposit, dtype: float64"
      ]
     },
     "execution_count": 39,
     "metadata": {},
     "output_type": "execute_result"
    }
   ],
   "source": [
    "corr_matrix = bank_transformed_df.corr()\n",
    "corr_matrix[\"deposit\"].sort_values(ascending=False)"
   ]
  },
  {
   "cell_type": "code",
   "execution_count": 40,
   "id": "4ec9ff0d",
   "metadata": {
    "scrolled": false
   },
   "outputs": [
    {
     "data": {
      "text/plain": [
       "<matplotlib.image.AxesImage at 0x16b0dad40>"
      ]
     },
     "execution_count": 40,
     "metadata": {},
     "output_type": "execute_result"
    },
    {
     "data": {
      "image/png": "[encoded data removed]",
      "text/plain": [
       "<Figure size 480x480 with 1 Axes>"
      ]
     },
     "metadata": {},
     "output_type": "display_data"
    }
   ],
   "source": [
    "plt.matshow(bank_transformed_df.corr(), cmap='hot')"
   ]
  },
  {
   "cell_type": "code",
   "execution_count": 41,
   "id": "69f72e5c",
   "metadata": {},
   "outputs": [
    {
     "data": {
      "image/png": "[encoded data removed]",
      "text/plain": [
       "<Figure size 2000x1500 with 56 Axes>"
      ]
     },
     "metadata": {},
     "output_type": "display_data"
    }
   ],
   "source": [
    "import matplotlib.pyplot as plt\n",
    "bank_transformed_df.hist(bins=30, figsize=(20,15))\n",
    "plt.show()"
   ]
  },
  {
   "cell_type": "code",
   "execution_count": 42,
   "id": "1a90c30a",
   "metadata": {
    "scrolled": false
   },
   "outputs": [],
   "source": [
    "from pandas.plotting import scatter_matrix\n",
    "\n",
    "# scatter_matrix(bank_prepared_df[attrs], figsize=(12, 8))"
   ]
  },
  {
   "cell_type": "code",
   "execution_count": 43,
   "id": "db03c6a8",
   "metadata": {
    "scrolled": false
   },
   "outputs": [],
   "source": [
    "# strat_train_set.plot(kind=\"scatter\", x = \"age_bin\", y = \"deposit\", alpha = 0.1) #, s=\"age\""
   ]
  },
  {
   "cell_type": "code",
   "execution_count": 44,
   "id": "52716e44",
   "metadata": {},
   "outputs": [],
   "source": [
    "# bank_prepared_df_temp = bank_prepared_df[bank_prepared_df['poutcome'] != 3] # unknown\n",
    "# bank_prepared_df_temp"
   ]
  },
  {
   "cell_type": "code",
   "execution_count": 45,
   "id": "bf40d72a",
   "metadata": {},
   "outputs": [],
   "source": [
    "# corr_matrix = bank_prepared_df_temp.corr()\n",
    "# corr_matrix[\"deposit\"].sort_values(ascending=False)\n",
    "\n",
    "# bank_prepared_df.plot(kind=\"scatter\", x=\"poutcome\", y=\"deposit\", alpha = 0.1, s=\"poutcome\")"
   ]
  },
  {
   "cell_type": "code",
   "execution_count": null,
   "id": "49081b93",
   "metadata": {},
   "outputs": [],
   "source": []
  },
  {
   "cell_type": "code",
   "execution_count": null,
   "id": "eaa6b437",
   "metadata": {},
   "outputs": [],
   "source": []
  },
  {
   "cell_type": "code",
   "execution_count": 46,
   "id": "88172753",
   "metadata": {},
   "outputs": [],
   "source": [
    "# 11 / 07 / 2023"
   ]
  },
  {
   "cell_type": "code",
   "execution_count": 47,
   "id": "72cf485f",
   "metadata": {},
   "outputs": [],
   "source": [
    "# bank_transformed_df -> dataframe con: drop age + add age_bin + full_pipeline + nomi_colonne"
   ]
  },
  {
   "cell_type": "code",
   "execution_count": 71,
   "id": "3f7c92ec",
   "metadata": {},
   "outputs": [],
   "source": [
    "bank_prepared_df = bank_transformed_df"
   ]
  },
  {
   "cell_type": "code",
   "execution_count": 73,
   "id": "3d71d887",
   "metadata": {},
   "outputs": [
    {
     "data": {
      "text/html": [
       "<div>\n",
       "<style scoped>\n",
       "    .dataframe tbody tr th:only-of-type {\n",
       "        vertical-align: middle;\n",
       "    }\n",
       "\n",
       "    .dataframe tbody tr th {\n",
       "        vertical-align: top;\n",
       "    }\n",
       "\n",
       "    .dataframe thead th {\n",
       "        text-align: right;\n",
       "    }\n",
       "</style>\n",
       "<table border=\"1\" class=\"dataframe\">\n",
       "  <thead>\n",
       "    <tr style=\"text-align: right;\">\n",
       "      <th></th>\n",
       "      <th>balance</th>\n",
       "      <th>day</th>\n",
       "      <th>duration</th>\n",
       "      <th>campaign</th>\n",
       "      <th>pdays</th>\n",
       "      <th>previous</th>\n",
       "      <th>default</th>\n",
       "      <th>housing</th>\n",
       "      <th>loan</th>\n",
       "      <th>deposit</th>\n",
       "      <th>...</th>\n",
       "      <th>month_jun</th>\n",
       "      <th>month_mar</th>\n",
       "      <th>month_may</th>\n",
       "      <th>month_nov</th>\n",
       "      <th>month_oct</th>\n",
       "      <th>month_sep</th>\n",
       "      <th>poutcome_failure</th>\n",
       "      <th>poutcome_other</th>\n",
       "      <th>poutcome_success</th>\n",
       "      <th>poutcome_unknown</th>\n",
       "    </tr>\n",
       "  </thead>\n",
       "  <tbody>\n",
       "    <tr>\n",
       "      <th>0</th>\n",
       "      <td>0.252525</td>\n",
       "      <td>-1.265746</td>\n",
       "      <td>1.930226</td>\n",
       "      <td>-0.554168</td>\n",
       "      <td>-0.481184</td>\n",
       "      <td>-0.363260</td>\n",
       "      <td>0.0</td>\n",
       "      <td>1.0</td>\n",
       "      <td>0.0</td>\n",
       "      <td>1.0</td>\n",
       "      <td>...</td>\n",
       "      <td>0.0</td>\n",
       "      <td>0.0</td>\n",
       "      <td>1.0</td>\n",
       "      <td>0.0</td>\n",
       "      <td>0.0</td>\n",
       "      <td>0.0</td>\n",
       "      <td>0.0</td>\n",
       "      <td>0.0</td>\n",
       "      <td>0.0</td>\n",
       "      <td>1.0</td>\n",
       "    </tr>\n",
       "    <tr>\n",
       "      <th>1</th>\n",
       "      <td>-0.459974</td>\n",
       "      <td>-1.265746</td>\n",
       "      <td>3.154612</td>\n",
       "      <td>-0.554168</td>\n",
       "      <td>-0.481184</td>\n",
       "      <td>-0.363260</td>\n",
       "      <td>0.0</td>\n",
       "      <td>0.0</td>\n",
       "      <td>0.0</td>\n",
       "      <td>1.0</td>\n",
       "      <td>...</td>\n",
       "      <td>0.0</td>\n",
       "      <td>0.0</td>\n",
       "      <td>1.0</td>\n",
       "      <td>0.0</td>\n",
       "      <td>0.0</td>\n",
       "      <td>0.0</td>\n",
       "      <td>0.0</td>\n",
       "      <td>0.0</td>\n",
       "      <td>0.0</td>\n",
       "      <td>1.0</td>\n",
       "    </tr>\n",
       "    <tr>\n",
       "      <th>2</th>\n",
       "      <td>-0.080160</td>\n",
       "      <td>-1.265746</td>\n",
       "      <td>2.929901</td>\n",
       "      <td>-0.554168</td>\n",
       "      <td>-0.481184</td>\n",
       "      <td>-0.363260</td>\n",
       "      <td>0.0</td>\n",
       "      <td>1.0</td>\n",
       "      <td>0.0</td>\n",
       "      <td>1.0</td>\n",
       "      <td>...</td>\n",
       "      <td>0.0</td>\n",
       "      <td>0.0</td>\n",
       "      <td>1.0</td>\n",
       "      <td>0.0</td>\n",
       "      <td>0.0</td>\n",
       "      <td>0.0</td>\n",
       "      <td>0.0</td>\n",
       "      <td>0.0</td>\n",
       "      <td>0.0</td>\n",
       "      <td>1.0</td>\n",
       "    </tr>\n",
       "    <tr>\n",
       "      <th>3</th>\n",
       "      <td>0.293762</td>\n",
       "      <td>-1.265746</td>\n",
       "      <td>0.596366</td>\n",
       "      <td>-0.554168</td>\n",
       "      <td>-0.481184</td>\n",
       "      <td>-0.363260</td>\n",
       "      <td>0.0</td>\n",
       "      <td>1.0</td>\n",
       "      <td>0.0</td>\n",
       "      <td>1.0</td>\n",
       "      <td>...</td>\n",
       "      <td>0.0</td>\n",
       "      <td>0.0</td>\n",
       "      <td>1.0</td>\n",
       "      <td>0.0</td>\n",
       "      <td>0.0</td>\n",
       "      <td>0.0</td>\n",
       "      <td>0.0</td>\n",
       "      <td>0.0</td>\n",
       "      <td>0.0</td>\n",
       "      <td>1.0</td>\n",
       "    </tr>\n",
       "    <tr>\n",
       "      <th>4</th>\n",
       "      <td>-0.416876</td>\n",
       "      <td>-1.265746</td>\n",
       "      <td>0.867171</td>\n",
       "      <td>-0.186785</td>\n",
       "      <td>-0.481184</td>\n",
       "      <td>-0.363260</td>\n",
       "      <td>0.0</td>\n",
       "      <td>0.0</td>\n",
       "      <td>0.0</td>\n",
       "      <td>1.0</td>\n",
       "      <td>...</td>\n",
       "      <td>0.0</td>\n",
       "      <td>0.0</td>\n",
       "      <td>1.0</td>\n",
       "      <td>0.0</td>\n",
       "      <td>0.0</td>\n",
       "      <td>0.0</td>\n",
       "      <td>0.0</td>\n",
       "      <td>0.0</td>\n",
       "      <td>0.0</td>\n",
       "      <td>1.0</td>\n",
       "    </tr>\n",
       "    <tr>\n",
       "      <th>...</th>\n",
       "      <td>...</td>\n",
       "      <td>...</td>\n",
       "      <td>...</td>\n",
       "      <td>...</td>\n",
       "      <td>...</td>\n",
       "      <td>...</td>\n",
       "      <td>...</td>\n",
       "      <td>...</td>\n",
       "      <td>...</td>\n",
       "      <td>...</td>\n",
       "      <td>...</td>\n",
       "      <td>...</td>\n",
       "      <td>...</td>\n",
       "      <td>...</td>\n",
       "      <td>...</td>\n",
       "      <td>...</td>\n",
       "      <td>...</td>\n",
       "      <td>...</td>\n",
       "      <td>...</td>\n",
       "      <td>...</td>\n",
       "      <td>...</td>\n",
       "    </tr>\n",
       "    <tr>\n",
       "      <th>11157</th>\n",
       "      <td>-0.473616</td>\n",
       "      <td>0.515650</td>\n",
       "      <td>-0.331287</td>\n",
       "      <td>-0.554168</td>\n",
       "      <td>-0.481184</td>\n",
       "      <td>-0.363260</td>\n",
       "      <td>0.0</td>\n",
       "      <td>1.0</td>\n",
       "      <td>0.0</td>\n",
       "      <td>0.0</td>\n",
       "      <td>...</td>\n",
       "      <td>0.0</td>\n",
       "      <td>0.0</td>\n",
       "      <td>0.0</td>\n",
       "      <td>0.0</td>\n",
       "      <td>0.0</td>\n",
       "      <td>0.0</td>\n",
       "      <td>0.0</td>\n",
       "      <td>0.0</td>\n",
       "      <td>0.0</td>\n",
       "      <td>1.0</td>\n",
       "    </tr>\n",
       "    <tr>\n",
       "      <th>11158</th>\n",
       "      <td>-0.246658</td>\n",
       "      <td>0.040612</td>\n",
       "      <td>-0.832564</td>\n",
       "      <td>0.547981</td>\n",
       "      <td>-0.481184</td>\n",
       "      <td>-0.363260</td>\n",
       "      <td>0.0</td>\n",
       "      <td>0.0</td>\n",
       "      <td>0.0</td>\n",
       "      <td>0.0</td>\n",
       "      <td>...</td>\n",
       "      <td>1.0</td>\n",
       "      <td>0.0</td>\n",
       "      <td>0.0</td>\n",
       "      <td>0.0</td>\n",
       "      <td>0.0</td>\n",
       "      <td>0.0</td>\n",
       "      <td>0.0</td>\n",
       "      <td>0.0</td>\n",
       "      <td>0.0</td>\n",
       "      <td>1.0</td>\n",
       "    </tr>\n",
       "    <tr>\n",
       "      <th>11159</th>\n",
       "      <td>-0.464934</td>\n",
       "      <td>0.396891</td>\n",
       "      <td>-0.622258</td>\n",
       "      <td>-0.186785</td>\n",
       "      <td>-0.481184</td>\n",
       "      <td>-0.363260</td>\n",
       "      <td>0.0</td>\n",
       "      <td>0.0</td>\n",
       "      <td>0.0</td>\n",
       "      <td>0.0</td>\n",
       "      <td>...</td>\n",
       "      <td>0.0</td>\n",
       "      <td>0.0</td>\n",
       "      <td>0.0</td>\n",
       "      <td>0.0</td>\n",
       "      <td>0.0</td>\n",
       "      <td>0.0</td>\n",
       "      <td>0.0</td>\n",
       "      <td>0.0</td>\n",
       "      <td>0.0</td>\n",
       "      <td>1.0</td>\n",
       "    </tr>\n",
       "    <tr>\n",
       "      <th>11160</th>\n",
       "      <td>-0.473926</td>\n",
       "      <td>-0.909466</td>\n",
       "      <td>-1.045752</td>\n",
       "      <td>-0.186785</td>\n",
       "      <td>1.109571</td>\n",
       "      <td>1.818332</td>\n",
       "      <td>0.0</td>\n",
       "      <td>0.0</td>\n",
       "      <td>1.0</td>\n",
       "      <td>0.0</td>\n",
       "      <td>...</td>\n",
       "      <td>0.0</td>\n",
       "      <td>0.0</td>\n",
       "      <td>1.0</td>\n",
       "      <td>0.0</td>\n",
       "      <td>0.0</td>\n",
       "      <td>0.0</td>\n",
       "      <td>1.0</td>\n",
       "      <td>0.0</td>\n",
       "      <td>0.0</td>\n",
       "      <td>0.0</td>\n",
       "    </tr>\n",
       "    <tr>\n",
       "      <th>11161</th>\n",
       "      <td>-0.473926</td>\n",
       "      <td>-0.790707</td>\n",
       "      <td>0.737530</td>\n",
       "      <td>-0.554168</td>\n",
       "      <td>-0.481184</td>\n",
       "      <td>-0.363260</td>\n",
       "      <td>0.0</td>\n",
       "      <td>0.0</td>\n",
       "      <td>0.0</td>\n",
       "      <td>0.0</td>\n",
       "      <td>...</td>\n",
       "      <td>0.0</td>\n",
       "      <td>0.0</td>\n",
       "      <td>0.0</td>\n",
       "      <td>0.0</td>\n",
       "      <td>0.0</td>\n",
       "      <td>0.0</td>\n",
       "      <td>0.0</td>\n",
       "      <td>0.0</td>\n",
       "      <td>0.0</td>\n",
       "      <td>1.0</td>\n",
       "    </tr>\n",
       "  </tbody>\n",
       "</table>\n",
       "<p>11162 rows × 51 columns</p>\n",
       "</div>"
      ],
      "text/plain": [
       "        balance       day  duration  campaign     pdays  previous  default  \\\n",
       "0      0.252525 -1.265746  1.930226 -0.554168 -0.481184 -0.363260      0.0   \n",
       "1     -0.459974 -1.265746  3.154612 -0.554168 -0.481184 -0.363260      0.0   \n",
       "2     -0.080160 -1.265746  2.929901 -0.554168 -0.481184 -0.363260      0.0   \n",
       "3      0.293762 -1.265746  0.596366 -0.554168 -0.481184 -0.363260      0.0   \n",
       "4     -0.416876 -1.265746  0.867171 -0.186785 -0.481184 -0.363260      0.0   \n",
       "...         ...       ...       ...       ...       ...       ...      ...   \n",
       "11157 -0.473616  0.515650 -0.331287 -0.554168 -0.481184 -0.363260      0.0   \n",
       "11158 -0.246658  0.040612 -0.832564  0.547981 -0.481184 -0.363260      0.0   \n",
       "11159 -0.464934  0.396891 -0.622258 -0.186785 -0.481184 -0.363260      0.0   \n",
       "11160 -0.473926 -0.909466 -1.045752 -0.186785  1.109571  1.818332      0.0   \n",
       "11161 -0.473926 -0.790707  0.737530 -0.554168 -0.481184 -0.363260      0.0   \n",
       "\n",
       "       housing  loan  deposit  ...  month_jun  month_mar  month_may  \\\n",
       "0          1.0   0.0      1.0  ...        0.0        0.0        1.0   \n",
       "1          0.0   0.0      1.0  ...        0.0        0.0        1.0   \n",
       "2          1.0   0.0      1.0  ...        0.0        0.0        1.0   \n",
       "3          1.0   0.0      1.0  ...        0.0        0.0        1.0   \n",
       "4          0.0   0.0      1.0  ...        0.0        0.0        1.0   \n",
       "...        ...   ...      ...  ...        ...        ...        ...   \n",
       "11157      1.0   0.0      0.0  ...        0.0        0.0        0.0   \n",
       "11158      0.0   0.0      0.0  ...        1.0        0.0        0.0   \n",
       "11159      0.0   0.0      0.0  ...        0.0        0.0        0.0   \n",
       "11160      0.0   1.0      0.0  ...        0.0        0.0        1.0   \n",
       "11161      0.0   0.0      0.0  ...        0.0        0.0        0.0   \n",
       "\n",
       "       month_nov  month_oct  month_sep  poutcome_failure  poutcome_other  \\\n",
       "0            0.0        0.0        0.0               0.0             0.0   \n",
       "1            0.0        0.0        0.0               0.0             0.0   \n",
       "2            0.0        0.0        0.0               0.0             0.0   \n",
       "3            0.0        0.0        0.0               0.0             0.0   \n",
       "4            0.0        0.0        0.0               0.0             0.0   \n",
       "...          ...        ...        ...               ...             ...   \n",
       "11157        0.0        0.0        0.0               0.0             0.0   \n",
       "11158        0.0        0.0        0.0               0.0             0.0   \n",
       "11159        0.0        0.0        0.0               0.0             0.0   \n",
       "11160        0.0        0.0        0.0               1.0             0.0   \n",
       "11161        0.0        0.0        0.0               0.0             0.0   \n",
       "\n",
       "       poutcome_success  poutcome_unknown  \n",
       "0                   0.0               1.0  \n",
       "1                   0.0               1.0  \n",
       "2                   0.0               1.0  \n",
       "3                   0.0               1.0  \n",
       "4                   0.0               1.0  \n",
       "...                 ...               ...  \n",
       "11157               0.0               1.0  \n",
       "11158               0.0               1.0  \n",
       "11159               0.0               1.0  \n",
       "11160               0.0               0.0  \n",
       "11161               0.0               1.0  \n",
       "\n",
       "[11162 rows x 51 columns]"
      ]
     },
     "execution_count": 73,
     "metadata": {},
     "output_type": "execute_result"
    }
   ],
   "source": [
    "# bank_prepared_df"
   ]
  },
  {
   "cell_type": "code",
   "execution_count": 74,
   "id": "4a7347cb",
   "metadata": {
    "scrolled": false
   },
   "outputs": [
    {
     "data": {
      "text/plain": [
       "deposit                1.000000\n",
       "duration               0.451919\n",
       "poutcome_success       0.286642\n",
       "contact_cellular       0.223252\n",
       "age60-95               0.167604\n",
       "pdays                  0.151593\n",
       "previous               0.139867\n",
       "month_mar              0.135438\n",
       "month_oct              0.133783\n",
       "month_sep              0.126901\n",
       "job_retired            0.103827\n",
       "job_student            0.099953\n",
       "marital_single         0.094632\n",
       "education_tertiary     0.094598\n",
       "month_apr              0.090975\n",
       "age0-30                0.090643\n",
       "month_dec              0.086964\n",
       "balance                0.081129\n",
       "month_feb              0.051710\n",
       "poutcome_other         0.044059\n",
       "job_management         0.036301\n",
       "job_unemployed         0.033487\n",
       "poutcome_failure       0.020714\n",
       "contact_telephone      0.016420\n",
       "education_unknown      0.014355\n",
       "marital_divorced       0.005228\n",
       "job_unknown            0.001889\n",
       "job_admin.            -0.000610\n",
       "job_self-employed     -0.004707\n",
       "job_technician        -0.011557\n",
       "month_aug             -0.016621\n",
       "month_jun             -0.018982\n",
       "month_jan             -0.021803\n",
       "job_housemaid         -0.024155\n",
       "month_nov             -0.028278\n",
       "job_entrepreneur      -0.034443\n",
       "default               -0.040680\n",
       "job_services          -0.044531\n",
       "month_jul             -0.047368\n",
       "education_secondary   -0.051952\n",
       "day                   -0.056326\n",
       "education_primary     -0.063002\n",
       "marital_married       -0.092157\n",
       "job_blue-collar       -0.100840\n",
       "loan                  -0.110580\n",
       "campaign              -0.128081\n",
       "month_may             -0.170507\n",
       "age30-60              -0.172130\n",
       "housing               -0.203888\n",
       "poutcome_unknown      -0.230470\n",
       "contact_unknown       -0.256136\n",
       "Name: deposit, dtype: float64"
      ]
     },
     "execution_count": 74,
     "metadata": {},
     "output_type": "execute_result"
    }
   ],
   "source": [
    "corr_matrix = bank_prepared_df.corr()\n",
    "corr_matrix[\"deposit\"].sort_values(ascending=False)"
   ]
  },
  {
   "cell_type": "code",
   "execution_count": null,
   "id": "e5404151",
   "metadata": {},
   "outputs": [],
   "source": []
  },
  {
   "cell_type": "code",
   "execution_count": 75,
   "id": "09056d6e",
   "metadata": {},
   "outputs": [],
   "source": [
    "import numpy as np\n",
    "# Define the correlation threshold\n",
    "threshold_low = -0.08\n",
    "threshold_high = 0.08\n",
    "\n",
    "# Find columns\n",
    "low_correlation_cols = np.where((threshold_low < corr_matrix[\"deposit\"]) & (corr_matrix[\"deposit\"] < threshold_high))"
   ]
  },
  {
   "cell_type": "code",
   "execution_count": 76,
   "id": "6bc54c81",
   "metadata": {
    "scrolled": true
   },
   "outputs": [
    {
     "name": "stdout",
     "output_type": "stream",
     "text": [
      "{'education_secondary', 'job_admin.', 'job_technician', 'month_feb', 'month_jul', 'marital_divorced', 'month_jan', 'job_management', 'default', 'poutcome_failure', 'day', 'job_entrepreneur', 'poutcome_other', 'contact_telephone', 'month_aug', 'job_services', 'education_primary', 'job_housemaid', 'job_unknown', 'month_jun', 'month_nov', 'education_unknown', 'job_self-employed', 'job_unemployed'}\n"
     ]
    }
   ],
   "source": [
    "# Get the unique column indices\n",
    "# unique_cols = set([low_correlation_cols[1][i] for i in range(len(low_correlation_cols[1]))])\n",
    "todrop_cols = set(attrs[low_correlation_cols[0][i]] for i in range(len(low_correlation_cols[0])))\n",
    "\n",
    "print(todrop_cols)\n",
    "\n",
    "# Drop the identified columns from the dataset\n",
    "bank_prepared_df = bank_prepared_df.drop(columns=list(todrop_cols), axis=1)"
   ]
  },
  {
   "cell_type": "code",
   "execution_count": 77,
   "id": "f8c3dbdc",
   "metadata": {},
   "outputs": [
    {
     "data": {
      "text/html": [
       "<div>\n",
       "<style scoped>\n",
       "    .dataframe tbody tr th:only-of-type {\n",
       "        vertical-align: middle;\n",
       "    }\n",
       "\n",
       "    .dataframe tbody tr th {\n",
       "        vertical-align: top;\n",
       "    }\n",
       "\n",
       "    .dataframe thead th {\n",
       "        text-align: right;\n",
       "    }\n",
       "</style>\n",
       "<table border=\"1\" class=\"dataframe\">\n",
       "  <thead>\n",
       "    <tr style=\"text-align: right;\">\n",
       "      <th></th>\n",
       "      <th>balance</th>\n",
       "      <th>duration</th>\n",
       "      <th>campaign</th>\n",
       "      <th>pdays</th>\n",
       "      <th>previous</th>\n",
       "      <th>housing</th>\n",
       "      <th>loan</th>\n",
       "      <th>deposit</th>\n",
       "      <th>age0-30</th>\n",
       "      <th>age30-60</th>\n",
       "      <th>...</th>\n",
       "      <th>contact_cellular</th>\n",
       "      <th>contact_unknown</th>\n",
       "      <th>month_apr</th>\n",
       "      <th>month_dec</th>\n",
       "      <th>month_mar</th>\n",
       "      <th>month_may</th>\n",
       "      <th>month_oct</th>\n",
       "      <th>month_sep</th>\n",
       "      <th>poutcome_success</th>\n",
       "      <th>poutcome_unknown</th>\n",
       "    </tr>\n",
       "  </thead>\n",
       "  <tbody>\n",
       "    <tr>\n",
       "      <th>0</th>\n",
       "      <td>0.252525</td>\n",
       "      <td>1.930226</td>\n",
       "      <td>-0.554168</td>\n",
       "      <td>-0.481184</td>\n",
       "      <td>-0.36326</td>\n",
       "      <td>1.0</td>\n",
       "      <td>0.0</td>\n",
       "      <td>1.0</td>\n",
       "      <td>0.0</td>\n",
       "      <td>1.0</td>\n",
       "      <td>...</td>\n",
       "      <td>0.0</td>\n",
       "      <td>1.0</td>\n",
       "      <td>0.0</td>\n",
       "      <td>0.0</td>\n",
       "      <td>0.0</td>\n",
       "      <td>1.0</td>\n",
       "      <td>0.0</td>\n",
       "      <td>0.0</td>\n",
       "      <td>0.0</td>\n",
       "      <td>1.0</td>\n",
       "    </tr>\n",
       "    <tr>\n",
       "      <th>1</th>\n",
       "      <td>-0.459974</td>\n",
       "      <td>3.154612</td>\n",
       "      <td>-0.554168</td>\n",
       "      <td>-0.481184</td>\n",
       "      <td>-0.36326</td>\n",
       "      <td>0.0</td>\n",
       "      <td>0.0</td>\n",
       "      <td>1.0</td>\n",
       "      <td>0.0</td>\n",
       "      <td>1.0</td>\n",
       "      <td>...</td>\n",
       "      <td>0.0</td>\n",
       "      <td>1.0</td>\n",
       "      <td>0.0</td>\n",
       "      <td>0.0</td>\n",
       "      <td>0.0</td>\n",
       "      <td>1.0</td>\n",
       "      <td>0.0</td>\n",
       "      <td>0.0</td>\n",
       "      <td>0.0</td>\n",
       "      <td>1.0</td>\n",
       "    </tr>\n",
       "    <tr>\n",
       "      <th>2</th>\n",
       "      <td>-0.080160</td>\n",
       "      <td>2.929901</td>\n",
       "      <td>-0.554168</td>\n",
       "      <td>-0.481184</td>\n",
       "      <td>-0.36326</td>\n",
       "      <td>1.0</td>\n",
       "      <td>0.0</td>\n",
       "      <td>1.0</td>\n",
       "      <td>0.0</td>\n",
       "      <td>1.0</td>\n",
       "      <td>...</td>\n",
       "      <td>0.0</td>\n",
       "      <td>1.0</td>\n",
       "      <td>0.0</td>\n",
       "      <td>0.0</td>\n",
       "      <td>0.0</td>\n",
       "      <td>1.0</td>\n",
       "      <td>0.0</td>\n",
       "      <td>0.0</td>\n",
       "      <td>0.0</td>\n",
       "      <td>1.0</td>\n",
       "    </tr>\n",
       "    <tr>\n",
       "      <th>3</th>\n",
       "      <td>0.293762</td>\n",
       "      <td>0.596366</td>\n",
       "      <td>-0.554168</td>\n",
       "      <td>-0.481184</td>\n",
       "      <td>-0.36326</td>\n",
       "      <td>1.0</td>\n",
       "      <td>0.0</td>\n",
       "      <td>1.0</td>\n",
       "      <td>0.0</td>\n",
       "      <td>1.0</td>\n",
       "      <td>...</td>\n",
       "      <td>0.0</td>\n",
       "      <td>1.0</td>\n",
       "      <td>0.0</td>\n",
       "      <td>0.0</td>\n",
       "      <td>0.0</td>\n",
       "      <td>1.0</td>\n",
       "      <td>0.0</td>\n",
       "      <td>0.0</td>\n",
       "      <td>0.0</td>\n",
       "      <td>1.0</td>\n",
       "    </tr>\n",
       "    <tr>\n",
       "      <th>4</th>\n",
       "      <td>-0.416876</td>\n",
       "      <td>0.867171</td>\n",
       "      <td>-0.186785</td>\n",
       "      <td>-0.481184</td>\n",
       "      <td>-0.36326</td>\n",
       "      <td>0.0</td>\n",
       "      <td>0.0</td>\n",
       "      <td>1.0</td>\n",
       "      <td>0.0</td>\n",
       "      <td>1.0</td>\n",
       "      <td>...</td>\n",
       "      <td>0.0</td>\n",
       "      <td>1.0</td>\n",
       "      <td>0.0</td>\n",
       "      <td>0.0</td>\n",
       "      <td>0.0</td>\n",
       "      <td>1.0</td>\n",
       "      <td>0.0</td>\n",
       "      <td>0.0</td>\n",
       "      <td>0.0</td>\n",
       "      <td>1.0</td>\n",
       "    </tr>\n",
       "  </tbody>\n",
       "</table>\n",
       "<p>5 rows × 27 columns</p>\n",
       "</div>"
      ],
      "text/plain": [
       "    balance  duration  campaign     pdays  previous  housing  loan  deposit  \\\n",
       "0  0.252525  1.930226 -0.554168 -0.481184  -0.36326      1.0   0.0      1.0   \n",
       "1 -0.459974  3.154612 -0.554168 -0.481184  -0.36326      0.0   0.0      1.0   \n",
       "2 -0.080160  2.929901 -0.554168 -0.481184  -0.36326      1.0   0.0      1.0   \n",
       "3  0.293762  0.596366 -0.554168 -0.481184  -0.36326      1.0   0.0      1.0   \n",
       "4 -0.416876  0.867171 -0.186785 -0.481184  -0.36326      0.0   0.0      1.0   \n",
       "\n",
       "   age0-30  age30-60  ...  contact_cellular  contact_unknown  month_apr  \\\n",
       "0      0.0       1.0  ...               0.0              1.0        0.0   \n",
       "1      0.0       1.0  ...               0.0              1.0        0.0   \n",
       "2      0.0       1.0  ...               0.0              1.0        0.0   \n",
       "3      0.0       1.0  ...               0.0              1.0        0.0   \n",
       "4      0.0       1.0  ...               0.0              1.0        0.0   \n",
       "\n",
       "   month_dec  month_mar  month_may  month_oct  month_sep  poutcome_success  \\\n",
       "0        0.0        0.0        1.0        0.0        0.0               0.0   \n",
       "1        0.0        0.0        1.0        0.0        0.0               0.0   \n",
       "2        0.0        0.0        1.0        0.0        0.0               0.0   \n",
       "3        0.0        0.0        1.0        0.0        0.0               0.0   \n",
       "4        0.0        0.0        1.0        0.0        0.0               0.0   \n",
       "\n",
       "   poutcome_unknown  \n",
       "0               1.0  \n",
       "1               1.0  \n",
       "2               1.0  \n",
       "3               1.0  \n",
       "4               1.0  \n",
       "\n",
       "[5 rows x 27 columns]"
      ]
     },
     "execution_count": 77,
     "metadata": {},
     "output_type": "execute_result"
    }
   ],
   "source": [
    "bank_prepared_df.head()"
   ]
  },
  {
   "cell_type": "code",
   "execution_count": 78,
   "id": "f1a5ade4",
   "metadata": {},
   "outputs": [
    {
     "data": {
      "text/plain": [
       "deposit               1.000000\n",
       "duration              0.451919\n",
       "poutcome_success      0.286642\n",
       "contact_cellular      0.223252\n",
       "age60-95              0.167604\n",
       "pdays                 0.151593\n",
       "previous              0.139867\n",
       "month_mar             0.135438\n",
       "month_oct             0.133783\n",
       "month_sep             0.126901\n",
       "job_retired           0.103827\n",
       "job_student           0.099953\n",
       "marital_single        0.094632\n",
       "education_tertiary    0.094598\n",
       "month_apr             0.090975\n",
       "age0-30               0.090643\n",
       "month_dec             0.086964\n",
       "balance               0.081129\n",
       "marital_married      -0.092157\n",
       "job_blue-collar      -0.100840\n",
       "loan                 -0.110580\n",
       "campaign             -0.128081\n",
       "month_may            -0.170507\n",
       "age30-60             -0.172130\n",
       "housing              -0.203888\n",
       "poutcome_unknown     -0.230470\n",
       "contact_unknown      -0.256136\n",
       "Name: deposit, dtype: float64"
      ]
     },
     "execution_count": 78,
     "metadata": {},
     "output_type": "execute_result"
    }
   ],
   "source": [
    "corr_matrix_dropped = bank_prepared_df.corr()\n",
    "corr_matrix_dropped[\"deposit\"].sort_values(ascending=False)"
   ]
  },
  {
   "cell_type": "code",
   "execution_count": 79,
   "id": "0f39a8de",
   "metadata": {},
   "outputs": [
    {
     "data": {
      "image/png": "[encoded data removed]",
      "text/plain": [
       "<Figure size 480x480 with 1 Axes>"
      ]
     },
     "metadata": {},
     "output_type": "display_data"
    }
   ],
   "source": [
    "plt.matshow(bank_prepared_df.corr(), cmap='binary')\n",
    "plt.xticks(np.arange(bank_prepared_df.shape[1]), bank_prepared_df.columns.values.tolist(), rotation=90)\n",
    "plt.yticks(np.arange(bank_prepared_df.shape[1]), bank_prepared_df.columns.values.tolist(), rotation=0)\n",
    "\n",
    "plt.show()"
   ]
  },
  {
   "cell_type": "code",
   "execution_count": 80,
   "id": "e4be7294",
   "metadata": {},
   "outputs": [],
   "source": [
    "# bank_prepared_df.shape"
   ]
  },
  {
   "cell_type": "code",
   "execution_count": 84,
   "id": "008ac97f",
   "metadata": {},
   "outputs": [],
   "source": [
    "from sklearn.model_selection import StratifiedShuffleSplit\n",
    "\n",
    "split = StratifiedShuffleSplit(n_splits=1, test_size=0.2, random_state=42)\n",
    "for train_index, test_index in split.split(bank_prepared_df, bank_prepared_df[\"deposit\"]):\n",
    "    strat_train_set = bank_prepared_df.loc[train_index]\n",
    "    strat_test_set = bank_prepared_df.loc[test_index]"
   ]
  },
  {
   "cell_type": "code",
   "execution_count": 85,
   "id": "9236bfae",
   "metadata": {},
   "outputs": [],
   "source": [
    "X_train = strat_train_set.drop(columns='deposit')\n",
    "y_train = strat_train_set['deposit']"
   ]
  },
  {
   "cell_type": "code",
   "execution_count": 86,
   "id": "7d78b5e3",
   "metadata": {},
   "outputs": [
    {
     "data": {
      "text/html": [
       "<div>\n",
       "<style scoped>\n",
       "    .dataframe tbody tr th:only-of-type {\n",
       "        vertical-align: middle;\n",
       "    }\n",
       "\n",
       "    .dataframe tbody tr th {\n",
       "        vertical-align: top;\n",
       "    }\n",
       "\n",
       "    .dataframe thead th {\n",
       "        text-align: right;\n",
       "    }\n",
       "</style>\n",
       "<table border=\"1\" class=\"dataframe\">\n",
       "  <thead>\n",
       "    <tr style=\"text-align: right;\">\n",
       "      <th></th>\n",
       "      <th>balance</th>\n",
       "      <th>duration</th>\n",
       "      <th>campaign</th>\n",
       "      <th>pdays</th>\n",
       "      <th>previous</th>\n",
       "      <th>housing</th>\n",
       "      <th>loan</th>\n",
       "      <th>age0-30</th>\n",
       "      <th>age30-60</th>\n",
       "      <th>age60-95</th>\n",
       "      <th>...</th>\n",
       "      <th>contact_cellular</th>\n",
       "      <th>contact_unknown</th>\n",
       "      <th>month_apr</th>\n",
       "      <th>month_dec</th>\n",
       "      <th>month_mar</th>\n",
       "      <th>month_may</th>\n",
       "      <th>month_oct</th>\n",
       "      <th>month_sep</th>\n",
       "      <th>poutcome_success</th>\n",
       "      <th>poutcome_unknown</th>\n",
       "    </tr>\n",
       "  </thead>\n",
       "  <tbody>\n",
       "    <tr>\n",
       "      <th>8644</th>\n",
       "      <td>-0.310839</td>\n",
       "      <td>-0.348572</td>\n",
       "      <td>0.180598</td>\n",
       "      <td>-0.481184</td>\n",
       "      <td>-0.363260</td>\n",
       "      <td>0.0</td>\n",
       "      <td>1.0</td>\n",
       "      <td>0.0</td>\n",
       "      <td>1.0</td>\n",
       "      <td>0.0</td>\n",
       "      <td>...</td>\n",
       "      <td>1.0</td>\n",
       "      <td>0.0</td>\n",
       "      <td>0.0</td>\n",
       "      <td>0.0</td>\n",
       "      <td>0.0</td>\n",
       "      <td>0.0</td>\n",
       "      <td>0.0</td>\n",
       "      <td>0.0</td>\n",
       "      <td>0.0</td>\n",
       "      <td>1.0</td>\n",
       "    </tr>\n",
       "    <tr>\n",
       "      <th>2632</th>\n",
       "      <td>0.317326</td>\n",
       "      <td>-0.322644</td>\n",
       "      <td>-0.554168</td>\n",
       "      <td>0.392352</td>\n",
       "      <td>3.127287</td>\n",
       "      <td>0.0</td>\n",
       "      <td>0.0</td>\n",
       "      <td>0.0</td>\n",
       "      <td>1.0</td>\n",
       "      <td>0.0</td>\n",
       "      <td>...</td>\n",
       "      <td>1.0</td>\n",
       "      <td>0.0</td>\n",
       "      <td>0.0</td>\n",
       "      <td>0.0</td>\n",
       "      <td>0.0</td>\n",
       "      <td>0.0</td>\n",
       "      <td>0.0</td>\n",
       "      <td>1.0</td>\n",
       "      <td>1.0</td>\n",
       "      <td>0.0</td>\n",
       "    </tr>\n",
       "    <tr>\n",
       "      <th>3056</th>\n",
       "      <td>-0.430829</td>\n",
       "      <td>-0.489736</td>\n",
       "      <td>-0.554168</td>\n",
       "      <td>0.364766</td>\n",
       "      <td>0.073059</td>\n",
       "      <td>0.0</td>\n",
       "      <td>1.0</td>\n",
       "      <td>1.0</td>\n",
       "      <td>0.0</td>\n",
       "      <td>0.0</td>\n",
       "      <td>...</td>\n",
       "      <td>1.0</td>\n",
       "      <td>0.0</td>\n",
       "      <td>0.0</td>\n",
       "      <td>0.0</td>\n",
       "      <td>0.0</td>\n",
       "      <td>0.0</td>\n",
       "      <td>0.0</td>\n",
       "      <td>0.0</td>\n",
       "      <td>1.0</td>\n",
       "      <td>0.0</td>\n",
       "    </tr>\n",
       "    <tr>\n",
       "      <th>1080</th>\n",
       "      <td>0.545524</td>\n",
       "      <td>1.161024</td>\n",
       "      <td>0.180598</td>\n",
       "      <td>-0.481184</td>\n",
       "      <td>-0.363260</td>\n",
       "      <td>1.0</td>\n",
       "      <td>0.0</td>\n",
       "      <td>0.0</td>\n",
       "      <td>1.0</td>\n",
       "      <td>0.0</td>\n",
       "      <td>...</td>\n",
       "      <td>1.0</td>\n",
       "      <td>0.0</td>\n",
       "      <td>0.0</td>\n",
       "      <td>0.0</td>\n",
       "      <td>0.0</td>\n",
       "      <td>0.0</td>\n",
       "      <td>0.0</td>\n",
       "      <td>0.0</td>\n",
       "      <td>0.0</td>\n",
       "      <td>1.0</td>\n",
       "    </tr>\n",
       "    <tr>\n",
       "      <th>4006</th>\n",
       "      <td>-0.406645</td>\n",
       "      <td>-0.288073</td>\n",
       "      <td>-0.186785</td>\n",
       "      <td>-0.481184</td>\n",
       "      <td>-0.363260</td>\n",
       "      <td>0.0</td>\n",
       "      <td>0.0</td>\n",
       "      <td>0.0</td>\n",
       "      <td>1.0</td>\n",
       "      <td>0.0</td>\n",
       "      <td>...</td>\n",
       "      <td>1.0</td>\n",
       "      <td>0.0</td>\n",
       "      <td>0.0</td>\n",
       "      <td>0.0</td>\n",
       "      <td>0.0</td>\n",
       "      <td>0.0</td>\n",
       "      <td>0.0</td>\n",
       "      <td>1.0</td>\n",
       "      <td>0.0</td>\n",
       "      <td>1.0</td>\n",
       "    </tr>\n",
       "  </tbody>\n",
       "</table>\n",
       "<p>5 rows × 26 columns</p>\n",
       "</div>"
      ],
      "text/plain": [
       "       balance  duration  campaign     pdays  previous  housing  loan  \\\n",
       "8644 -0.310839 -0.348572  0.180598 -0.481184 -0.363260      0.0   1.0   \n",
       "2632  0.317326 -0.322644 -0.554168  0.392352  3.127287      0.0   0.0   \n",
       "3056 -0.430829 -0.489736 -0.554168  0.364766  0.073059      0.0   1.0   \n",
       "1080  0.545524  1.161024  0.180598 -0.481184 -0.363260      1.0   0.0   \n",
       "4006 -0.406645 -0.288073 -0.186785 -0.481184 -0.363260      0.0   0.0   \n",
       "\n",
       "      age0-30  age30-60  age60-95  ...  contact_cellular  contact_unknown  \\\n",
       "8644      0.0       1.0       0.0  ...               1.0              0.0   \n",
       "2632      0.0       1.0       0.0  ...               1.0              0.0   \n",
       "3056      1.0       0.0       0.0  ...               1.0              0.0   \n",
       "1080      0.0       1.0       0.0  ...               1.0              0.0   \n",
       "4006      0.0       1.0       0.0  ...               1.0              0.0   \n",
       "\n",
       "      month_apr  month_dec  month_mar  month_may  month_oct  month_sep  \\\n",
       "8644        0.0        0.0        0.0        0.0        0.0        0.0   \n",
       "2632        0.0        0.0        0.0        0.0        0.0        1.0   \n",
       "3056        0.0        0.0        0.0        0.0        0.0        0.0   \n",
       "1080        0.0        0.0        0.0        0.0        0.0        0.0   \n",
       "4006        0.0        0.0        0.0        0.0        0.0        1.0   \n",
       "\n",
       "      poutcome_success  poutcome_unknown  \n",
       "8644               0.0               1.0  \n",
       "2632               1.0               0.0  \n",
       "3056               1.0               0.0  \n",
       "1080               0.0               1.0  \n",
       "4006               0.0               1.0  \n",
       "\n",
       "[5 rows x 26 columns]"
      ]
     },
     "execution_count": 86,
     "metadata": {},
     "output_type": "execute_result"
    }
   ],
   "source": [
    "X_train.head()"
   ]
  },
  {
   "cell_type": "code",
   "execution_count": 87,
   "id": "603a6f28",
   "metadata": {},
   "outputs": [
    {
     "data": {
      "text/plain": [
       "8644    0.0\n",
       "2632    1.0\n",
       "3056    1.0\n",
       "1080    1.0\n",
       "4006    1.0\n",
       "       ... \n",
       "3751    1.0\n",
       "9695    0.0\n",
       "3579    1.0\n",
       "3386    1.0\n",
       "9743    0.0\n",
       "Name: deposit, Length: 8929, dtype: float64"
      ]
     },
     "execution_count": 87,
     "metadata": {},
     "output_type": "execute_result"
    }
   ],
   "source": [
    "y_train"
   ]
  },
  {
   "cell_type": "code",
   "execution_count": null,
   "id": "59d921ed",
   "metadata": {},
   "outputs": [],
   "source": []
  },
  {
   "cell_type": "code",
   "execution_count": 88,
   "id": "f360c5b6",
   "metadata": {},
   "outputs": [],
   "source": [
    "# 12 / 07 / 2023"
   ]
  },
  {
   "cell_type": "code",
   "execution_count": 89,
   "id": "d5162331",
   "metadata": {},
   "outputs": [],
   "source": [
    "# Time for Classification Models\n",
    "import time\n",
    "\n",
    "# from sklearn.decomposition import PCA\n",
    "from sklearn.preprocessing import StandardScaler, LabelEncoder\n",
    " \n",
    "from sklearn.linear_model import LogisticRegression\n",
    "from sklearn.svm import SVC\n",
    "from sklearn.neighbors import KNeighborsClassifier\n",
    "from sklearn import tree\n",
    "from sklearn.neural_network import MLPClassifier\n",
    "from sklearn.neighbors import KNeighborsClassifier\n",
    "from sklearn.ensemble import GradientBoostingClassifier\n",
    "from sklearn.gaussian_process.kernels import RBF\n",
    "from sklearn.ensemble import RandomForestClassifier\n",
    "from sklearn.naive_bayes import GaussianNB"
   ]
  },
  {
   "cell_type": "code",
   "execution_count": 90,
   "id": "c8a65230",
   "metadata": {},
   "outputs": [
    {
     "data": {
      "text/markdown": [
       "# Training Accuracy\n"
      ],
      "text/plain": [
       "<IPython.core.display.Markdown object>"
      ]
     },
     "metadata": {},
     "output_type": "display_data"
    }
   ],
   "source": [
    "%%markdown\n",
    "# Training Accuracy"
   ]
  },
  {
   "cell_type": "code",
   "execution_count": 91,
   "id": "f306abaa",
   "metadata": {},
   "outputs": [],
   "source": [
    "dict_classifiers = {\n",
    "    \"Logistic Regression\": LogisticRegression(),\n",
    "    \"Nearest Neighbors\": KNeighborsClassifier(),\n",
    "    \"Linear SVM\": SVC(),\n",
    "    \"Gradient Boosting Classifier\": GradientBoostingClassifier(),\n",
    "    \"Decision Tree\": tree.DecisionTreeClassifier(),\n",
    "    \"Random Forest\": RandomForestClassifier(n_estimators=18),\n",
    "    \"Neural Net\": MLPClassifier(alpha=1),\n",
    "    \"Naive Bayes\": GaussianNB()\n",
    "}"
   ]
  },
  {
   "cell_type": "code",
   "execution_count": 92,
   "id": "e42b11c5",
   "metadata": {},
   "outputs": [
    {
     "name": "stdout",
     "output_type": "stream",
     "text": [
      "trained Logistic Regression in 0.10 s\n",
      "trained Nearest Neighbors in 0.00 s\n",
      "trained Linear SVM in 0.91 s\n",
      "trained Gradient Boosting Classifier in 0.76 s\n",
      "trained Decision Tree in 0.03 s\n",
      "trained Random Forest in 0.10 s\n",
      "trained Neural Net in 2.16 s\n",
      "trained Naive Bayes in 0.01 s\n"
     ]
    },
    {
     "data": {
      "text/html": [
       "<div>\n",
       "<style scoped>\n",
       "    .dataframe tbody tr th:only-of-type {\n",
       "        vertical-align: middle;\n",
       "    }\n",
       "\n",
       "    .dataframe tbody tr th {\n",
       "        vertical-align: top;\n",
       "    }\n",
       "\n",
       "    .dataframe thead th {\n",
       "        text-align: right;\n",
       "    }\n",
       "</style>\n",
       "<table border=\"1\" class=\"dataframe\">\n",
       "  <thead>\n",
       "    <tr style=\"text-align: right;\">\n",
       "      <th></th>\n",
       "      <th>classifier</th>\n",
       "      <th>train_accuracy</th>\n",
       "      <th>training_time</th>\n",
       "    </tr>\n",
       "  </thead>\n",
       "  <tbody>\n",
       "    <tr>\n",
       "      <th>4</th>\n",
       "      <td>Decision Tree</td>\n",
       "      <td>1.000000</td>\n",
       "      <td>0.030167</td>\n",
       "    </tr>\n",
       "    <tr>\n",
       "      <th>5</th>\n",
       "      <td>Random Forest</td>\n",
       "      <td>0.996640</td>\n",
       "      <td>0.095176</td>\n",
       "    </tr>\n",
       "    <tr>\n",
       "      <th>1</th>\n",
       "      <td>Nearest Neighbors</td>\n",
       "      <td>0.858551</td>\n",
       "      <td>0.003228</td>\n",
       "    </tr>\n",
       "    <tr>\n",
       "      <th>2</th>\n",
       "      <td>Linear SVM</td>\n",
       "      <td>0.849591</td>\n",
       "      <td>0.911165</td>\n",
       "    </tr>\n",
       "    <tr>\n",
       "      <th>3</th>\n",
       "      <td>Gradient Boosting Classifier</td>\n",
       "      <td>0.845671</td>\n",
       "      <td>0.755096</td>\n",
       "    </tr>\n",
       "    <tr>\n",
       "      <th>6</th>\n",
       "      <td>Neural Net</td>\n",
       "      <td>0.834248</td>\n",
       "      <td>2.156391</td>\n",
       "    </tr>\n",
       "    <tr>\n",
       "      <th>0</th>\n",
       "      <td>Logistic Regression</td>\n",
       "      <td>0.826184</td>\n",
       "      <td>0.096563</td>\n",
       "    </tr>\n",
       "    <tr>\n",
       "      <th>7</th>\n",
       "      <td>Naive Bayes</td>\n",
       "      <td>0.711278</td>\n",
       "      <td>0.007326</td>\n",
       "    </tr>\n",
       "  </tbody>\n",
       "</table>\n",
       "</div>"
      ],
      "text/plain": [
       "                     classifier  train_accuracy  training_time\n",
       "4                 Decision Tree        1.000000       0.030167\n",
       "5                 Random Forest        0.996640       0.095176\n",
       "1             Nearest Neighbors        0.858551       0.003228\n",
       "2                    Linear SVM        0.849591       0.911165\n",
       "3  Gradient Boosting Classifier        0.845671       0.755096\n",
       "6                    Neural Net        0.834248       2.156391\n",
       "0           Logistic Regression        0.826184       0.096563\n",
       "7                   Naive Bayes        0.711278       0.007326"
      ]
     },
     "execution_count": 92,
     "metadata": {},
     "output_type": "execute_result"
    }
   ],
   "source": [
    "no_classifiers = len(dict_classifiers.keys())\n",
    "\n",
    "def batch_classify(X_train, Y_train, verbose = True):\n",
    "    df_results = pd.DataFrame(data=np.zeros(shape=(no_classifiers,3)), columns = ['classifier', 'train_accuracy', 'training_time'])\n",
    "    count = 0\n",
    "    for key, classifier in dict_classifiers.items():\n",
    "        t_start = time.perf_counter()\n",
    "        classifier.fit(X_train, Y_train)\n",
    "        t_end = time.perf_counter()\n",
    "        t_diff = t_end - t_start\n",
    "        train_score = classifier.score(X_train, Y_train)\n",
    "        df_results.loc[count,'classifier'] = key\n",
    "        df_results.loc[count,'train_accuracy'] = train_score\n",
    "        df_results.loc[count,'training_time'] = t_diff\n",
    "        if verbose:\n",
    "            print(\"trained {c} in {f:.2f} s\".format(c=key, f=t_diff))\n",
    "        count+=1\n",
    "    return df_results\n",
    "\n",
    "df_results = batch_classify(X_train, y_train)\n",
    "df_results.sort_values(by='train_accuracy', ascending=False)"
   ]
  },
  {
   "cell_type": "code",
   "execution_count": 93,
   "id": "9293d198",
   "metadata": {},
   "outputs": [
    {
     "data": {
      "text/markdown": [
       "# Cross-Validation Accuracy\n"
      ],
      "text/plain": [
       "<IPython.core.display.Markdown object>"
      ]
     },
     "metadata": {},
     "output_type": "display_data"
    }
   ],
   "source": [
    "%%markdown\n",
    "# Cross-Validation Accuracy"
   ]
  },
  {
   "cell_type": "code",
   "execution_count": 94,
   "id": "2994f68d",
   "metadata": {
    "scrolled": false
   },
   "outputs": [],
   "source": [
    "from sklearn.model_selection import GridSearchCV\n",
    "\n",
    "param_grid_log_reg = [\n",
    "        {'penalty': ['l2'], 'C': [0.1, 0.3, 0.5, 0.7, 1]}\n",
    "]\n",
    "param_grid_knn_clf = [\n",
    "        {'n_neighbors': [3, 5, 7, 10], 'weights': ['uniform', 'distance']}\n",
    "    ]\n",
    "param_grid_svc_clf = [\n",
    "        {'C': [0.1, 0.3, 0.5, 0.7, 1], 'kernel': ['linear', 'poly', 'rbf', 'sigmoid']}\n",
    "    ]\n",
    "param_grid_grad_clf = [\n",
    "        {'loss': ['log_loss', 'exponential'], 'max_features': ['sqrt', 'log2', None],\n",
    "        'learning_rate': [0.05, 0.07, 0.1, 0.3]}\n",
    "    ]\n",
    "param_grid_tree_clf = [\n",
    "        {'criterion': ['gini', 'entropy', 'log_loss'], 'splitter': ['best', 'random']}\n",
    "    ]\n",
    "param_grid_rand_clf = [\n",
    "        {'n_estimators': [30, 100, 150], 'max_features': ['log2', 'sqrt']}\n",
    "    ]\n",
    "param_grid_neural_clf = [\n",
    "        {'solver': ['sgd', 'adam'], 'max_iter': [1000, 1500]}\n",
    "    ]\n",
    "param_grid_NB = [\n",
    "    {'priors': [None]}\n",
    "]\n",
    "\n",
    "\n",
    "dict_classifiers = {\n",
    "    \"Logistic Regression\": [LogisticRegression(), param_grid_log_reg],\n",
    "    \"Nearest Neighbors\": [KNeighborsClassifier(), param_grid_knn_clf],\n",
    "    \"SVM\": [SVC(), param_grid_svc_clf],\n",
    "    \"Gradient Boosting Classifier\": [GradientBoostingClassifier(), param_grid_grad_clf],\n",
    "    \"Decision Tree\": [tree.DecisionTreeClassifier(), param_grid_tree_clf],\n",
    "    \"Random Forest\": [RandomForestClassifier(), param_grid_rand_clf],\n",
    "    \"Neural Net\": [MLPClassifier(), param_grid_neural_clf],\n",
    "    \"Naive Bayes\": [GaussianNB(), param_grid_NB]\n",
    "}"
   ]
  },
  {
   "cell_type": "code",
   "execution_count": 95,
   "id": "bcd88772",
   "metadata": {},
   "outputs": [
    {
     "name": "stdout",
     "output_type": "stream",
     "text": [
      "Logistic Regression \n",
      "   Best params: {'C': 0.5, 'penalty': 'l2'} \n",
      "   Accuracy: 0.8252418858199603\n",
      "Nearest Neighbors \n",
      "   Best params: {'n_neighbors': 7, 'weights': 'uniform'} \n",
      "   Accuracy: 0.7944894674132508\n",
      "SVM \n",
      "   Best params: {'C': 0.7, 'kernel': 'rbf'} \n",
      "   Accuracy: 0.8059346247605597\n",
      "Gradient Boosting Classifier \n",
      "   Best params: {'learning_rate': 0.3, 'loss': 'exponential', 'max_features': None} \n",
      "   Accuracy: 0.8322401989902474\n",
      "Decision Tree \n",
      "   Best params: {'criterion': 'log_loss', 'splitter': 'best'} \n",
      "   Accuracy: 0.7618239362190975\n",
      "Random Forest \n",
      "   Best params: {'max_features': 'sqrt', 'n_estimators': 150} \n",
      "   Accuracy: 0.8241117923093378\n",
      "Neural Net \n",
      "   Best params: {'max_iter': 1000, 'solver': 'sgd'} \n",
      "   Accuracy: 0.8238315925380124\n",
      "Naive Bayes \n",
      "   Best params: {'priors': None} \n",
      "   Accuracy: 0.7097089860375183\n"
     ]
    }
   ],
   "source": [
    "no_classifiers = len(dict_classifiers.keys())\n",
    "df_results = pd.DataFrame(data=np.zeros(shape=(no_classifiers,2)),\n",
    "                          columns = ['classifier', 'val_accuracy'])\n",
    "\n",
    "count=0\n",
    "for key, classifier in dict_classifiers.items():\n",
    "    grid_search = GridSearchCV(classifier[0], classifier[1], cv=3, n_jobs=-1, \n",
    "                               scoring='accuracy')\n",
    "                               #return_train_score=True)\n",
    "    grid_search.fit(X_train, y_train)\n",
    "    df_results.loc[count,'classifier'] = key\n",
    "    df_results.loc[count,'val_accuracy'] = grid_search.cv_results_['mean_test_score'].mean()\n",
    "    count += 1\n",
    "    print(key,\n",
    "          \"\\n   Best params:\", grid_search.best_params_,\n",
    "          \"\\n   Accuracy:\", grid_search.cv_results_['mean_test_score'].mean())"
   ]
  },
  {
   "cell_type": "code",
   "execution_count": 96,
   "id": "f5fc98c4",
   "metadata": {},
   "outputs": [
    {
     "data": {
      "text/html": [
       "<div>\n",
       "<style scoped>\n",
       "    .dataframe tbody tr th:only-of-type {\n",
       "        vertical-align: middle;\n",
       "    }\n",
       "\n",
       "    .dataframe tbody tr th {\n",
       "        vertical-align: top;\n",
       "    }\n",
       "\n",
       "    .dataframe thead th {\n",
       "        text-align: right;\n",
       "    }\n",
       "</style>\n",
       "<table border=\"1\" class=\"dataframe\">\n",
       "  <thead>\n",
       "    <tr style=\"text-align: right;\">\n",
       "      <th></th>\n",
       "      <th>classifier</th>\n",
       "      <th>val_accuracy</th>\n",
       "    </tr>\n",
       "  </thead>\n",
       "  <tbody>\n",
       "    <tr>\n",
       "      <th>3</th>\n",
       "      <td>Gradient Boosting Classifier</td>\n",
       "      <td>0.832240</td>\n",
       "    </tr>\n",
       "    <tr>\n",
       "      <th>0</th>\n",
       "      <td>Logistic Regression</td>\n",
       "      <td>0.825242</td>\n",
       "    </tr>\n",
       "    <tr>\n",
       "      <th>5</th>\n",
       "      <td>Random Forest</td>\n",
       "      <td>0.824112</td>\n",
       "    </tr>\n",
       "    <tr>\n",
       "      <th>6</th>\n",
       "      <td>Neural Net</td>\n",
       "      <td>0.823832</td>\n",
       "    </tr>\n",
       "    <tr>\n",
       "      <th>2</th>\n",
       "      <td>SVM</td>\n",
       "      <td>0.805935</td>\n",
       "    </tr>\n",
       "    <tr>\n",
       "      <th>1</th>\n",
       "      <td>Nearest Neighbors</td>\n",
       "      <td>0.794489</td>\n",
       "    </tr>\n",
       "    <tr>\n",
       "      <th>4</th>\n",
       "      <td>Decision Tree</td>\n",
       "      <td>0.761824</td>\n",
       "    </tr>\n",
       "    <tr>\n",
       "      <th>7</th>\n",
       "      <td>Naive Bayes</td>\n",
       "      <td>0.709709</td>\n",
       "    </tr>\n",
       "  </tbody>\n",
       "</table>\n",
       "</div>"
      ],
      "text/plain": [
       "                     classifier  val_accuracy\n",
       "3  Gradient Boosting Classifier      0.832240\n",
       "0           Logistic Regression      0.825242\n",
       "5                 Random Forest      0.824112\n",
       "6                    Neural Net      0.823832\n",
       "2                           SVM      0.805935\n",
       "1             Nearest Neighbors      0.794489\n",
       "4                 Decision Tree      0.761824\n",
       "7                   Naive Bayes      0.709709"
      ]
     },
     "execution_count": 96,
     "metadata": {},
     "output_type": "execute_result"
    }
   ],
   "source": [
    "df_results.sort_values(by='val_accuracy', ascending=False)"
   ]
  },
  {
   "cell_type": "code",
   "execution_count": 97,
   "id": "de30c92b",
   "metadata": {},
   "outputs": [
    {
     "data": {
      "text/markdown": [
       "# Confusion Matrix\n"
      ],
      "text/plain": [
       "<IPython.core.display.Markdown object>"
      ]
     },
     "metadata": {},
     "output_type": "display_data"
    }
   ],
   "source": [
    "%%markdown\n",
    "# Confusion Matrix"
   ]
  },
  {
   "cell_type": "code",
   "execution_count": 98,
   "id": "b7413065",
   "metadata": {},
   "outputs": [
    {
     "data": {
      "text/plain": [
       "'\\nThe main purpose of a confusion matrix is to see how our model is performing when it comes to classifying \\npotential clients that are likely to suscribe to a term deposit. We will see in the confusion matrix four \\nterms the True Positives, False Positives, True Negatives and False Negatives.\\n\\n\\nPositive/Negative: Type of Class (label) [\"No\", \"Yes\"] True/False: Correctly or Incorrectly classified by the model.\\n\\n\\nTrue Negatives (Top-Left Square): This is the number of correctly classifications of the \"No\" class \\nor potenial clients that are not willing to suscribe a term deposit. \\n\\n\\nFalse Negatives (Top-Right Square): This is the number of incorrectly classifications of the \"No\" class \\nor potential clients that are not willing to suscribe a term depositt. \\n\\n\\nFalse Positives (Bottom-Left Square): This is the number of incorrectly classifications of the \"Yes\" class \\nor potential clients that are willing to suscribe a term deposit. \\n\\n\\nTrue Positives (Bottom-Right Square): This is the number of correctly classifications of the \"Yes\" class \\nor potenial clients that are willing to suscribe a term deposit.\\n'"
      ]
     },
     "execution_count": 98,
     "metadata": {},
     "output_type": "execute_result"
    }
   ],
   "source": [
    "'''\n",
    "The main purpose of a confusion matrix is to see how our model is performing when it comes to classifying \n",
    "potential clients that are likely to suscribe to a term deposit. We will see in the confusion matrix four \n",
    "terms the True Positives, False Positives, True Negatives and False Negatives.\n",
    "\n",
    "\n",
    "Positive/Negative: Type of Class (label) [\"No\", \"Yes\"] True/False: Correctly or Incorrectly classified by the model.\n",
    "\n",
    "\n",
    "True Negatives (Top-Left Square): This is the number of correctly classifications of the \"No\" class \n",
    "or potenial clients that are not willing to suscribe a term deposit. \n",
    "\n",
    "\n",
    "False Negatives (Top-Right Square): This is the number of incorrectly classifications of the \"No\" class \n",
    "or potential clients that are not willing to suscribe a term depositt. \n",
    "\n",
    "\n",
    "False Positives (Bottom-Left Square): This is the number of incorrectly classifications of the \"Yes\" class \n",
    "or potential clients that are willing to suscribe a term deposit. \n",
    "\n",
    "\n",
    "True Positives (Bottom-Right Square): This is the number of correctly classifications of the \"Yes\" class \n",
    "or potenial clients that are willing to suscribe a term deposit.\n",
    "'''"
   ]
  },
  {
   "cell_type": "code",
   "execution_count": 99,
   "id": "41aa7750",
   "metadata": {},
   "outputs": [],
   "source": [
    "final_GB_clf = GradientBoostingClassifier(learning_rate=0.1, loss='log_loss', max_features='log2').fit(X_train, y_train)\n",
    "\n",
    "GB_clf_predictions = final_GB_clf.predict(X_train)\n",
    "\n",
    "from sklearn.model_selection import cross_val_predict\n",
    "\n",
    "GB_clf_predictions_cross_val = cross_val_predict(final_GB_clf, X_train, y_train, cv=3)"
   ]
  },
  {
   "cell_type": "code",
   "execution_count": 100,
   "id": "bdd6693e",
   "metadata": {},
   "outputs": [
    {
     "name": "stdout",
     "output_type": "stream",
     "text": [
      "Gradient Boost Classifier accuracy is 0.844\n",
      "Gradient Boost Classifier accuracy (cross_val_predict) is 0.835\n"
     ]
    }
   ],
   "source": [
    "from sklearn.metrics import accuracy_score\n",
    "\n",
    "print (\"Gradient Boost Classifier accuracy is %2.3f\" % accuracy_score(y_train, GB_clf_predictions))\n",
    "print (\"Gradient Boost Classifier accuracy (cross_val_predict) is %2.3f\" % accuracy_score(y_train, GB_clf_predictions_cross_val))"
   ]
  },
  {
   "cell_type": "code",
   "execution_count": 101,
   "id": "2d768131",
   "metadata": {},
   "outputs": [
    {
     "data": {
      "text/plain": [
       "array([[3946,  752],\n",
       "       [ 644, 3587]])"
      ]
     },
     "execution_count": 101,
     "metadata": {},
     "output_type": "execute_result"
    }
   ],
   "source": [
    "from sklearn.metrics import confusion_matrix\n",
    "\n",
    "conf_matrix = confusion_matrix(y_train, GB_clf_predictions)\n",
    "\n",
    "conf_matrix"
   ]
  },
  {
   "cell_type": "code",
   "execution_count": 102,
   "id": "7150ad87",
   "metadata": {},
   "outputs": [],
   "source": [
    "# disegno matrice (box 55 kaggle)"
   ]
  },
  {
   "cell_type": "code",
   "execution_count": 103,
   "id": "c4a2ae9d",
   "metadata": {},
   "outputs": [
    {
     "data": {
      "text/markdown": [
       "# Precision, Recall, F1\n"
      ],
      "text/plain": [
       "<IPython.core.display.Markdown object>"
      ]
     },
     "metadata": {},
     "output_type": "display_data"
    }
   ],
   "source": [
    "%%markdown\n",
    "# Precision, Recall, F1"
   ]
  },
  {
   "cell_type": "code",
   "execution_count": 104,
   "id": "76a411b8",
   "metadata": {},
   "outputs": [
    {
     "data": {
      "text/plain": [
       "'\\nPrecision and Recall:\\n\\nRecall: Is the total number of \"Yes\" in the label column of the dataset. \\nSo how many \"Yes\" labels does our model detect. \\n\\nPrecision: Means how sure is the prediction of our model that the actual label is a \"Yes\".\\n'"
      ]
     },
     "execution_count": 104,
     "metadata": {},
     "output_type": "execute_result"
    }
   ],
   "source": [
    "'''\n",
    "Precision and Recall:\n",
    "\n",
    "Recall: Is the total number of \"Yes\" in the label column of the dataset. \n",
    "So how many \"Yes\" labels does our model detect. \n",
    "\n",
    "Precision: Means how sure is the prediction of our model that the actual label is a \"Yes\".\n",
    "'''"
   ]
  },
  {
   "cell_type": "code",
   "execution_count": 105,
   "id": "e3b00131",
   "metadata": {},
   "outputs": [
    {
     "name": "stdout",
     "output_type": "stream",
     "text": [
      "precision:  0.8266881769993086 \trecall:  0.8477901205388797 \tF1:  0.8371061843640606\n"
     ]
    }
   ],
   "source": [
    "from sklearn.metrics import precision_score, recall_score\n",
    "from sklearn.metrics import f1_score\n",
    "\n",
    "precs_GB = precision_score(y_train, GB_clf_predictions)\n",
    "recalls_GB = recall_score(y_train, GB_clf_predictions)\n",
    "F1_score_GB = f1_score(y_train, GB_clf_predictions)\n",
    "print(\"precision: \", precs_GB, \"\\trecall: \", recalls_GB, \"\\tF1: \", F1_score_GB)"
   ]
  },
  {
   "cell_type": "code",
   "execution_count": 106,
   "id": "6d386e94",
   "metadata": {},
   "outputs": [
    {
     "data": {
      "image/png": "[encoded data removed]",
      "text/plain": [
       "<Figure size 640x480 with 1 Axes>"
      ]
     },
     "metadata": {},
     "output_type": "display_data"
    }
   ],
   "source": [
    "# calcoliamo gli y_scores con la cross_val_predict\n",
    "y_scores_GB = cross_val_predict(final_GB_clf, X_train, y_train, cv=3, method=\"decision_function\")\n",
    "\n",
    "# facciamo il plot di thresholds, recalls e precisions\n",
    "from sklearn.metrics import precision_recall_curve\n",
    "precisions_GB, recalls_GB, thresholds_GB = precision_recall_curve(y_train, y_scores_GB)\n",
    "F1_GB = 2*((precisions_GB*recalls_GB)/(precisions_GB+recalls_GB))\n",
    "\n",
    "def plot_precision_recall_vs_threshold_and_recall(precisions, recalls, thresholds, F1): \n",
    "    plt.plot(thresholds, precisions[:-1], \"b--\", label=\"Precision\") # b = blue; -- = dashed line\n",
    "    plt.plot(thresholds, recalls[:-1], \"g-\", label=\"Recall\") # g = green; - = linea continua\n",
    "    plt.plot(thresholds, F1[:-1], \"r-.\", label=\"F1\") # g = green; - = linea continua\n",
    "    plt.legend()\n",
    "    # highlight the threshold, add the legend, axis label and grid\n",
    "\n",
    "plot_precision_recall_vs_threshold_and_recall(precisions_GB, recalls_GB, thresholds_GB, F1_GB)\n",
    "plt.annotate('Threshold', xy=(-0.4, 0.83), xytext=(-10, -70),\n",
    "                 textcoords=\"offset points\",\n",
    "                 arrowprops=dict(facecolor='black', shrink=0.05),\n",
    "                 fontsize=12, \n",
    "                 color='k')\n",
    "plt.show()"
   ]
  },
  {
   "cell_type": "code",
   "execution_count": 107,
   "id": "9bf138d5",
   "metadata": {},
   "outputs": [
    {
     "name": "stdout",
     "output_type": "stream",
     "text": [
      "La threshold da utilizzare è il massimo dell'F1 score ovvero -0.355970\n"
     ]
    }
   ],
   "source": [
    "best_th_GB = thresholds_GB[np.argmax(F1_GB)] # migliore threshold da utilizzare\n",
    "print(\"La threshold da utilizzare è il massimo dell'F1 score ovvero %2.6f\" %best_th_GB)"
   ]
  },
  {
   "cell_type": "code",
   "execution_count": 108,
   "id": "51f0a55d",
   "metadata": {},
   "outputs": [
    {
     "name": "stdout",
     "output_type": "stream",
     "text": [
      "recall:  0.8879697471047033 \t precision: 0.7892857142857143\n",
      "f1 score:  0.8357246135023912\n"
     ]
    }
   ],
   "source": [
    "predictions_GB = (y_scores_GB > best_th_GB)\n",
    "\n",
    "prec_GB = precision_score(y_train, predictions_GB)\n",
    "recall_GB = recall_score(y_train, predictions_GB)\n",
    "\n",
    "print(\"recall: \", recall_GB, \"\\t precision:\", prec_GB)\n",
    "\n",
    "from sklearn.metrics import f1_score\n",
    "print(\"f1 score: \", f1_score(y_train, predictions_GB))"
   ]
  },
  {
   "cell_type": "code",
   "execution_count": 109,
   "id": "7d81ed37",
   "metadata": {},
   "outputs": [],
   "source": [
    "# nel nostro caso conviene avere una recall piu alta (numero maggiore di persone da chiamare)ù\n",
    "# perchè al massimo chiude il telefono e non aderisce\n",
    "\n",
    "\n",
    "# recall = TP/(TP+FN) --> \n",
    "#     persone che abbiamo contattato / (persone che abbiamo contattato + persone che avremmo dovuto contattare)\n",
    "\n",
    "# se il recall è alto allora le persone che avremmo dovuto contattare ma che non abbiamo contattato\n",
    "# sono poche"
   ]
  },
  {
   "cell_type": "code",
   "execution_count": 110,
   "id": "1acf258d",
   "metadata": {},
   "outputs": [
    {
     "data": {
      "image/png": "[encoded data removed]",
      "text/plain": [
       "<Figure size 640x480 with 1 Axes>"
      ]
     },
     "metadata": {},
     "output_type": "display_data"
    }
   ],
   "source": [
    "plt.plot(precisions_GB, recalls_GB)\n",
    "plt.plot([0.5,1],[0.5,1]) # bisettrice\n",
    "plt.plot(1,1, color=\"green\", marker=\"o\") # intersezione ideale\n",
    "plt.xlabel(\"precisions\")\n",
    "plt.ylabel(\"recalls\")\n",
    "plt.show()"
   ]
  },
  {
   "cell_type": "code",
   "execution_count": 111,
   "id": "2a24cde5",
   "metadata": {},
   "outputs": [
    {
     "data": {
      "text/markdown": [
       "# ROC curves e Areas Under the Curves\n"
      ],
      "text/plain": [
       "<IPython.core.display.Markdown object>"
      ]
     },
     "metadata": {},
     "output_type": "display_data"
    }
   ],
   "source": [
    "%%markdown\n",
    "# ROC curves e Areas Under the Curves"
   ]
  },
  {
   "cell_type": "code",
   "execution_count": 112,
   "id": "4db11cd3",
   "metadata": {},
   "outputs": [],
   "source": [
    "from sklearn.metrics import roc_curve\n",
    "from sklearn.metrics import roc_auc_score\n",
    "\n",
    "def plot_roc_curve(fpr, tpr, label=None): \n",
    "    plt.plot(fpr, tpr, linewidth=2, label=label) \n",
    "    plt.plot([0, 1], [0, 1], 'k--') # dashed diagonal\n",
    "    plt.xlabel(\"false positive rate\")\n",
    "    plt.ylabel(\"recall (true positive rate)\")\n",
    "    # Add axis labels and grid\n",
    "\n",
    "# Gradient Boosting Classifier\n",
    "fpr_GB, tpr_GB, thresholds_GB = roc_curve(y_train, y_scores_GB)\n",
    "\n",
    "# Neural Net\n",
    "final_NC_clf = MLPClassifier(max_iter=1000, solver='sgd').fit(X_train, y_train)\n",
    "y_scores_NC = cross_val_predict(final_NC_clf, X_train, y_train, cv=3, method=\"predict_proba\")\n",
    "fpr_NC, tpr_NC, thresholds = roc_curve(y_train, y_scores_NC[:,1])\n",
    "\n",
    "# Random Forest\n",
    "final_RF_clf = RandomForestClassifier(max_features='sqrt', n_estimators=150).fit(X_train, y_train)\n",
    "y_scores_RF = cross_val_predict(final_RF_clf, X_train, y_train, cv=3, method=\"predict_proba\")\n",
    "fpr_RF, tpr_RF, thresholds = roc_curve(y_train, y_scores_RF[:,1])\n",
    "\n",
    "# Logistic Regression\n",
    "final_LR = LogisticRegression(C=0.5, penalty='l2')\n",
    "y_scores_LR = cross_val_predict(final_LR, X_train, y_train, cv=3, method=\"predict_proba\")\n",
    "fpr_LR, tpr_LR, thresholds = roc_curve(y_train, y_scores_LR[:,1])\n",
    "\n",
    "# Naive Bayes\n",
    "final_NB = GaussianNB()\n",
    "y_scores_NB = cross_val_predict(final_NB, X_train, y_train, cv=3, method=\"predict_proba\")\n",
    "fpr_NB, tpr_NB, thresholds = roc_curve(y_train, y_scores_NB[:,1])"
   ]
  },
  {
   "cell_type": "code",
   "execution_count": 113,
   "id": "c898c06c",
   "metadata": {},
   "outputs": [
    {
     "data": {
      "image/png": "[encoded data removed]",
      "text/plain": [
       "<Figure size 640x480 with 1 Axes>"
      ]
     },
     "metadata": {},
     "output_type": "display_data"
    }
   ],
   "source": [
    "plt.title('ROC Curve \\n Top 4 Classifiers', fontsize=18)\n",
    "plt.plot(0,1, color=\"green\", marker=\"o\") # ideale\n",
    "plt.plot([0,1],[1,1], color='brown')\n",
    "plt.plot([0,0],[0,1], color='brown') # ideale\n",
    "plot_roc_curve(fpr_RF, tpr_RF, 'Random Forest Classifier')\n",
    "plot_roc_curve(fpr_GB, tpr_GB, 'Gradient Boosting Classifier')\n",
    "plot_roc_curve(fpr_NC, tpr_NC, 'Neural Net Classifier')\n",
    "plot_roc_curve(fpr_LR, tpr_LR, 'Logistic Regression')\n",
    "plot_roc_curve(fpr_NB, tpr_NB, 'Naive Bayes')\n",
    "plt.legend()\n",
    "plt.annotate('Minimum ROC Score of 50% \\n (This is the minimum score to get)', xy=(0.5, 0.5), xytext=(0.6, 0.4),\n",
    "                arrowprops=dict(facecolor='#6E726D', shrink=0.05),\n",
    "                )\n",
    "plt.show()"
   ]
  },
  {
   "cell_type": "code",
   "execution_count": 114,
   "id": "1144d528",
   "metadata": {},
   "outputs": [
    {
     "name": "stdout",
     "output_type": "stream",
     "text": [
      "L'area sotto la ROC Curve dovrebbe avvicinarsi ad 1, noi abbiamo:\n",
      "Gradient Boosting:  0.9078732920539565\n",
      "Random Forest:  0.899713330393287\n",
      "Neural Net:  0.9032321794406244\n",
      "Logistic Regression:  0.8999295073088123\n",
      "...\n",
      "Naive Bayes:  0.8204423572329316\n"
     ]
    }
   ],
   "source": [
    "print(\"L'area sotto la ROC Curve dovrebbe avvicinarsi ad 1, noi abbiamo:\")\n",
    "print(\"Gradient Boosting: \", roc_auc_score(y_train, y_scores_GB))\n",
    "print(\"Random Forest: \", roc_auc_score(y_train, y_scores_RF[:,1]))\n",
    "print(\"Neural Net: \", roc_auc_score(y_train, y_scores_NC[:,1]))\n",
    "print(\"Logistic Regression: \", roc_auc_score(y_train, y_scores_LR[:,1]))\n",
    "print(\"...\")\n",
    "print(\"Naive Bayes: \", roc_auc_score(y_train, y_scores_NB[:,1]))"
   ]
  },
  {
   "cell_type": "code",
   "execution_count": null,
   "id": "de10a0e1",
   "metadata": {},
   "outputs": [],
   "source": []
  },
  {
   "cell_type": "code",
   "execution_count": null,
   "id": "b6b26629",
   "metadata": {},
   "outputs": [],
   "source": []
  },
  {
   "cell_type": "code",
   "execution_count": 115,
   "id": "6851fbe0",
   "metadata": {},
   "outputs": [],
   "source": [
    "# applicare trasformazioni sul test set\n",
    "# valutare modello su test set"
   ]
  },
  {
   "cell_type": "code",
   "execution_count": 117,
   "id": "2d2941e7",
   "metadata": {},
   "outputs": [
    {
     "data": {
      "text/html": [
       "<div>\n",
       "<style scoped>\n",
       "    .dataframe tbody tr th:only-of-type {\n",
       "        vertical-align: middle;\n",
       "    }\n",
       "\n",
       "    .dataframe tbody tr th {\n",
       "        vertical-align: top;\n",
       "    }\n",
       "\n",
       "    .dataframe thead th {\n",
       "        text-align: right;\n",
       "    }\n",
       "</style>\n",
       "<table border=\"1\" class=\"dataframe\">\n",
       "  <thead>\n",
       "    <tr style=\"text-align: right;\">\n",
       "      <th></th>\n",
       "      <th>balance</th>\n",
       "      <th>duration</th>\n",
       "      <th>campaign</th>\n",
       "      <th>pdays</th>\n",
       "      <th>previous</th>\n",
       "      <th>housing</th>\n",
       "      <th>loan</th>\n",
       "      <th>deposit</th>\n",
       "      <th>age0-30</th>\n",
       "      <th>age30-60</th>\n",
       "      <th>...</th>\n",
       "      <th>contact_cellular</th>\n",
       "      <th>contact_unknown</th>\n",
       "      <th>month_apr</th>\n",
       "      <th>month_dec</th>\n",
       "      <th>month_mar</th>\n",
       "      <th>month_may</th>\n",
       "      <th>month_oct</th>\n",
       "      <th>month_sep</th>\n",
       "      <th>poutcome_success</th>\n",
       "      <th>poutcome_unknown</th>\n",
       "    </tr>\n",
       "  </thead>\n",
       "  <tbody>\n",
       "    <tr>\n",
       "      <th>8220</th>\n",
       "      <td>-0.352076</td>\n",
       "      <td>0.247776</td>\n",
       "      <td>-0.186785</td>\n",
       "      <td>-0.481184</td>\n",
       "      <td>-0.363260</td>\n",
       "      <td>0.0</td>\n",
       "      <td>0.0</td>\n",
       "      <td>0.0</td>\n",
       "      <td>0.0</td>\n",
       "      <td>1.0</td>\n",
       "      <td>...</td>\n",
       "      <td>1.0</td>\n",
       "      <td>0.0</td>\n",
       "      <td>0.0</td>\n",
       "      <td>0.0</td>\n",
       "      <td>0.0</td>\n",
       "      <td>0.0</td>\n",
       "      <td>0.0</td>\n",
       "      <td>0.0</td>\n",
       "      <td>0.0</td>\n",
       "      <td>1.0</td>\n",
       "    </tr>\n",
       "    <tr>\n",
       "      <th>2521</th>\n",
       "      <td>-0.357346</td>\n",
       "      <td>0.308275</td>\n",
       "      <td>-0.554168</td>\n",
       "      <td>-0.481184</td>\n",
       "      <td>-0.363260</td>\n",
       "      <td>0.0</td>\n",
       "      <td>0.0</td>\n",
       "      <td>1.0</td>\n",
       "      <td>0.0</td>\n",
       "      <td>1.0</td>\n",
       "      <td>...</td>\n",
       "      <td>1.0</td>\n",
       "      <td>0.0</td>\n",
       "      <td>0.0</td>\n",
       "      <td>0.0</td>\n",
       "      <td>0.0</td>\n",
       "      <td>0.0</td>\n",
       "      <td>0.0</td>\n",
       "      <td>0.0</td>\n",
       "      <td>0.0</td>\n",
       "      <td>1.0</td>\n",
       "    </tr>\n",
       "    <tr>\n",
       "      <th>7949</th>\n",
       "      <td>-0.250069</td>\n",
       "      <td>-0.786470</td>\n",
       "      <td>-0.186785</td>\n",
       "      <td>1.229107</td>\n",
       "      <td>0.945695</td>\n",
       "      <td>0.0</td>\n",
       "      <td>0.0</td>\n",
       "      <td>0.0</td>\n",
       "      <td>0.0</td>\n",
       "      <td>1.0</td>\n",
       "      <td>...</td>\n",
       "      <td>1.0</td>\n",
       "      <td>0.0</td>\n",
       "      <td>0.0</td>\n",
       "      <td>0.0</td>\n",
       "      <td>0.0</td>\n",
       "      <td>0.0</td>\n",
       "      <td>1.0</td>\n",
       "      <td>0.0</td>\n",
       "      <td>0.0</td>\n",
       "      <td>0.0</td>\n",
       "    </tr>\n",
       "    <tr>\n",
       "      <th>7879</th>\n",
       "      <td>-0.536556</td>\n",
       "      <td>-0.299597</td>\n",
       "      <td>0.180598</td>\n",
       "      <td>-0.481184</td>\n",
       "      <td>-0.363260</td>\n",
       "      <td>1.0</td>\n",
       "      <td>0.0</td>\n",
       "      <td>0.0</td>\n",
       "      <td>0.0</td>\n",
       "      <td>1.0</td>\n",
       "      <td>...</td>\n",
       "      <td>0.0</td>\n",
       "      <td>1.0</td>\n",
       "      <td>0.0</td>\n",
       "      <td>0.0</td>\n",
       "      <td>0.0</td>\n",
       "      <td>1.0</td>\n",
       "      <td>0.0</td>\n",
       "      <td>0.0</td>\n",
       "      <td>0.0</td>\n",
       "      <td>1.0</td>\n",
       "    </tr>\n",
       "    <tr>\n",
       "      <th>616</th>\n",
       "      <td>-0.532836</td>\n",
       "      <td>1.256094</td>\n",
       "      <td>0.180598</td>\n",
       "      <td>-0.481184</td>\n",
       "      <td>-0.363260</td>\n",
       "      <td>0.0</td>\n",
       "      <td>1.0</td>\n",
       "      <td>1.0</td>\n",
       "      <td>0.0</td>\n",
       "      <td>1.0</td>\n",
       "      <td>...</td>\n",
       "      <td>1.0</td>\n",
       "      <td>0.0</td>\n",
       "      <td>0.0</td>\n",
       "      <td>0.0</td>\n",
       "      <td>0.0</td>\n",
       "      <td>0.0</td>\n",
       "      <td>0.0</td>\n",
       "      <td>0.0</td>\n",
       "      <td>0.0</td>\n",
       "      <td>1.0</td>\n",
       "    </tr>\n",
       "    <tr>\n",
       "      <th>...</th>\n",
       "      <td>...</td>\n",
       "      <td>...</td>\n",
       "      <td>...</td>\n",
       "      <td>...</td>\n",
       "      <td>...</td>\n",
       "      <td>...</td>\n",
       "      <td>...</td>\n",
       "      <td>...</td>\n",
       "      <td>...</td>\n",
       "      <td>...</td>\n",
       "      <td>...</td>\n",
       "      <td>...</td>\n",
       "      <td>...</td>\n",
       "      <td>...</td>\n",
       "      <td>...</td>\n",
       "      <td>...</td>\n",
       "      <td>...</td>\n",
       "      <td>...</td>\n",
       "      <td>...</td>\n",
       "      <td>...</td>\n",
       "      <td>...</td>\n",
       "    </tr>\n",
       "    <tr>\n",
       "      <th>11141</th>\n",
       "      <td>-0.433619</td>\n",
       "      <td>-0.201646</td>\n",
       "      <td>-0.186785</td>\n",
       "      <td>-0.481184</td>\n",
       "      <td>-0.363260</td>\n",
       "      <td>1.0</td>\n",
       "      <td>0.0</td>\n",
       "      <td>0.0</td>\n",
       "      <td>0.0</td>\n",
       "      <td>1.0</td>\n",
       "      <td>...</td>\n",
       "      <td>1.0</td>\n",
       "      <td>0.0</td>\n",
       "      <td>0.0</td>\n",
       "      <td>0.0</td>\n",
       "      <td>0.0</td>\n",
       "      <td>1.0</td>\n",
       "      <td>0.0</td>\n",
       "      <td>0.0</td>\n",
       "      <td>0.0</td>\n",
       "      <td>1.0</td>\n",
       "    </tr>\n",
       "    <tr>\n",
       "      <th>3589</th>\n",
       "      <td>-0.178757</td>\n",
       "      <td>-0.178598</td>\n",
       "      <td>-0.554168</td>\n",
       "      <td>-0.481184</td>\n",
       "      <td>-0.363260</td>\n",
       "      <td>0.0</td>\n",
       "      <td>0.0</td>\n",
       "      <td>1.0</td>\n",
       "      <td>0.0</td>\n",
       "      <td>0.0</td>\n",
       "      <td>...</td>\n",
       "      <td>1.0</td>\n",
       "      <td>0.0</td>\n",
       "      <td>0.0</td>\n",
       "      <td>0.0</td>\n",
       "      <td>0.0</td>\n",
       "      <td>0.0</td>\n",
       "      <td>0.0</td>\n",
       "      <td>0.0</td>\n",
       "      <td>0.0</td>\n",
       "      <td>1.0</td>\n",
       "    </tr>\n",
       "    <tr>\n",
       "      <th>4200</th>\n",
       "      <td>0.208498</td>\n",
       "      <td>-0.063362</td>\n",
       "      <td>-0.554168</td>\n",
       "      <td>-0.481184</td>\n",
       "      <td>-0.363260</td>\n",
       "      <td>0.0</td>\n",
       "      <td>0.0</td>\n",
       "      <td>1.0</td>\n",
       "      <td>0.0</td>\n",
       "      <td>1.0</td>\n",
       "      <td>...</td>\n",
       "      <td>0.0</td>\n",
       "      <td>0.0</td>\n",
       "      <td>1.0</td>\n",
       "      <td>0.0</td>\n",
       "      <td>0.0</td>\n",
       "      <td>0.0</td>\n",
       "      <td>0.0</td>\n",
       "      <td>0.0</td>\n",
       "      <td>0.0</td>\n",
       "      <td>1.0</td>\n",
       "    </tr>\n",
       "    <tr>\n",
       "      <th>1959</th>\n",
       "      <td>-0.447572</td>\n",
       "      <td>0.628056</td>\n",
       "      <td>0.915364</td>\n",
       "      <td>2.829057</td>\n",
       "      <td>0.073059</td>\n",
       "      <td>1.0</td>\n",
       "      <td>0.0</td>\n",
       "      <td>1.0</td>\n",
       "      <td>0.0</td>\n",
       "      <td>1.0</td>\n",
       "      <td>...</td>\n",
       "      <td>1.0</td>\n",
       "      <td>0.0</td>\n",
       "      <td>0.0</td>\n",
       "      <td>0.0</td>\n",
       "      <td>0.0</td>\n",
       "      <td>1.0</td>\n",
       "      <td>0.0</td>\n",
       "      <td>0.0</td>\n",
       "      <td>0.0</td>\n",
       "      <td>0.0</td>\n",
       "    </tr>\n",
       "    <tr>\n",
       "      <th>903</th>\n",
       "      <td>0.129745</td>\n",
       "      <td>-0.414833</td>\n",
       "      <td>-0.554168</td>\n",
       "      <td>-0.481184</td>\n",
       "      <td>-0.363260</td>\n",
       "      <td>0.0</td>\n",
       "      <td>0.0</td>\n",
       "      <td>1.0</td>\n",
       "      <td>0.0</td>\n",
       "      <td>1.0</td>\n",
       "      <td>...</td>\n",
       "      <td>0.0</td>\n",
       "      <td>0.0</td>\n",
       "      <td>0.0</td>\n",
       "      <td>0.0</td>\n",
       "      <td>0.0</td>\n",
       "      <td>0.0</td>\n",
       "      <td>1.0</td>\n",
       "      <td>0.0</td>\n",
       "      <td>0.0</td>\n",
       "      <td>1.0</td>\n",
       "    </tr>\n",
       "  </tbody>\n",
       "</table>\n",
       "<p>2233 rows × 27 columns</p>\n",
       "</div>"
      ],
      "text/plain": [
       "        balance  duration  campaign     pdays  previous  housing  loan  \\\n",
       "8220  -0.352076  0.247776 -0.186785 -0.481184 -0.363260      0.0   0.0   \n",
       "2521  -0.357346  0.308275 -0.554168 -0.481184 -0.363260      0.0   0.0   \n",
       "7949  -0.250069 -0.786470 -0.186785  1.229107  0.945695      0.0   0.0   \n",
       "7879  -0.536556 -0.299597  0.180598 -0.481184 -0.363260      1.0   0.0   \n",
       "616   -0.532836  1.256094  0.180598 -0.481184 -0.363260      0.0   1.0   \n",
       "...         ...       ...       ...       ...       ...      ...   ...   \n",
       "11141 -0.433619 -0.201646 -0.186785 -0.481184 -0.363260      1.0   0.0   \n",
       "3589  -0.178757 -0.178598 -0.554168 -0.481184 -0.363260      0.0   0.0   \n",
       "4200   0.208498 -0.063362 -0.554168 -0.481184 -0.363260      0.0   0.0   \n",
       "1959  -0.447572  0.628056  0.915364  2.829057  0.073059      1.0   0.0   \n",
       "903    0.129745 -0.414833 -0.554168 -0.481184 -0.363260      0.0   0.0   \n",
       "\n",
       "       deposit  age0-30  age30-60  ...  contact_cellular  contact_unknown  \\\n",
       "8220       0.0      0.0       1.0  ...               1.0              0.0   \n",
       "2521       1.0      0.0       1.0  ...               1.0              0.0   \n",
       "7949       0.0      0.0       1.0  ...               1.0              0.0   \n",
       "7879       0.0      0.0       1.0  ...               0.0              1.0   \n",
       "616        1.0      0.0       1.0  ...               1.0              0.0   \n",
       "...        ...      ...       ...  ...               ...              ...   \n",
       "11141      0.0      0.0       1.0  ...               1.0              0.0   \n",
       "3589       1.0      0.0       0.0  ...               1.0              0.0   \n",
       "4200       1.0      0.0       1.0  ...               0.0              0.0   \n",
       "1959       1.0      0.0       1.0  ...               1.0              0.0   \n",
       "903        1.0      0.0       1.0  ...               0.0              0.0   \n",
       "\n",
       "       month_apr  month_dec  month_mar  month_may  month_oct  month_sep  \\\n",
       "8220         0.0        0.0        0.0        0.0        0.0        0.0   \n",
       "2521         0.0        0.0        0.0        0.0        0.0        0.0   \n",
       "7949         0.0        0.0        0.0        0.0        1.0        0.0   \n",
       "7879         0.0        0.0        0.0        1.0        0.0        0.0   \n",
       "616          0.0        0.0        0.0        0.0        0.0        0.0   \n",
       "...          ...        ...        ...        ...        ...        ...   \n",
       "11141        0.0        0.0        0.0        1.0        0.0        0.0   \n",
       "3589         0.0        0.0        0.0        0.0        0.0        0.0   \n",
       "4200         1.0        0.0        0.0        0.0        0.0        0.0   \n",
       "1959         0.0        0.0        0.0        1.0        0.0        0.0   \n",
       "903          0.0        0.0        0.0        0.0        1.0        0.0   \n",
       "\n",
       "       poutcome_success  poutcome_unknown  \n",
       "8220                0.0               1.0  \n",
       "2521                0.0               1.0  \n",
       "7949                0.0               0.0  \n",
       "7879                0.0               1.0  \n",
       "616                 0.0               1.0  \n",
       "...                 ...               ...  \n",
       "11141               0.0               1.0  \n",
       "3589                0.0               1.0  \n",
       "4200                0.0               1.0  \n",
       "1959                0.0               0.0  \n",
       "903                 0.0               1.0  \n",
       "\n",
       "[2233 rows x 27 columns]"
      ]
     },
     "execution_count": 117,
     "metadata": {},
     "output_type": "execute_result"
    }
   ],
   "source": [
    "strat_test_set"
   ]
  },
  {
   "cell_type": "code",
   "execution_count": null,
   "id": "75271333",
   "metadata": {},
   "outputs": [],
   "source": [
    "y_test = strat_test_set[\"deposit\"]\n",
    "\n",
    "predicted = rf_reg.predict(housing_test)\n",
    "\n",
    "final_mse = mean_squared_error(housing_test_labels, predicted)\n",
    "final_rmse = np.sqrt(final_mse) \n",
    "print(final_rmse)\n",
    "# FINAL EVALUATION ON TEST SET: GENERALIZATION MEASURE"
   ]
  },
  {
   "cell_type": "code",
   "execution_count": null,
   "id": "842f4a13",
   "metadata": {},
   "outputs": [],
   "source": []
  },
  {
   "cell_type": "code",
   "execution_count": null,
   "id": "df18b37d",
   "metadata": {},
   "outputs": [],
   "source": []
  },
  {
   "cell_type": "code",
   "execution_count": null,
   "id": "2e4b0e0f",
   "metadata": {},
   "outputs": [],
   "source": []
  },
  {
   "cell_type": "code",
   "execution_count": null,
   "id": "b3864980",
   "metadata": {},
   "outputs": [],
   "source": []
  },
  {
   "cell_type": "code",
   "execution_count": null,
   "id": "18158b1c",
   "metadata": {},
   "outputs": [],
   "source": []
  },
  {
   "cell_type": "code",
   "execution_count": null,
   "id": "25bd6be2",
   "metadata": {},
   "outputs": [],
   "source": []
  },
  {
   "cell_type": "code",
   "execution_count": null,
   "id": "8b0e8a4e",
   "metadata": {},
   "outputs": [],
   "source": []
  },
  {
   "cell_type": "code",
   "execution_count": null,
   "id": "92551d7d",
   "metadata": {},
   "outputs": [],
   "source": []
  },
  {
   "cell_type": "code",
   "execution_count": null,
   "id": "cf976349",
   "metadata": {},
   "outputs": [],
   "source": []
  },
  {
   "cell_type": "code",
   "execution_count": null,
   "id": "3a08f2c0",
   "metadata": {},
   "outputs": [],
   "source": []
  },
  {
   "cell_type": "code",
   "execution_count": null,
   "id": "f951c33b",
   "metadata": {},
   "outputs": [],
   "source": []
  },
  {
   "cell_type": "code",
   "execution_count": null,
   "id": "dc040b25",
   "metadata": {},
   "outputs": [],
   "source": []
  },
  {
   "cell_type": "code",
   "execution_count": null,
   "id": "9d214ba4",
   "metadata": {},
   "outputs": [],
   "source": []
  },
  {
   "cell_type": "code",
   "execution_count": null,
   "id": "70b93615",
   "metadata": {},
   "outputs": [],
   "source": []
  },
  {
   "cell_type": "code",
   "execution_count": null,
   "id": "4ddfd75c",
   "metadata": {},
   "outputs": [],
   "source": []
  },
  {
   "cell_type": "code",
   "execution_count": null,
   "id": "e750d8af",
   "metadata": {},
   "outputs": [],
   "source": []
  },
  {
   "cell_type": "code",
   "execution_count": null,
   "id": "7a8d9be0",
   "metadata": {},
   "outputs": [],
   "source": []
  },
  {
   "cell_type": "code",
   "execution_count": null,
   "id": "74f408c9",
   "metadata": {},
   "outputs": [],
   "source": []
  },
  {
   "cell_type": "code",
   "execution_count": null,
   "id": "93dd1bb0",
   "metadata": {},
   "outputs": [],
   "source": []
  }
 ],
 "metadata": {
  "kernelspec": {
   "display_name": "Python 3 (ipykernel)",
   "language": "python",
   "name": "python3"
  },
  "language_info": {
   "codemirror_mode": {
    "name": "ipython",
    "version": 3
   },
   "file_extension": ".py",
   "mimetype": "text/x-python",
   "name": "python",
   "nbconvert_exporter": "python",
   "pygments_lexer": "ipython3",
   "version": "3.10.11"
  }
 },
 "nbformat": 4,
 "nbformat_minor": 5
}
