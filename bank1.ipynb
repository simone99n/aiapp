{
 "cells": [
  {
   "cell_type": "code",
   "execution_count": 3,
   "id": "ea9f249e",
   "metadata": {},
   "outputs": [
    {
     "data": {
      "text/markdown": [
       "# Bank1 file\n",
       "Progetto AIapp\n"
      ],
      "text/plain": [
       "<IPython.core.display.Markdown object>"
      ]
     },
     "metadata": {},
     "output_type": "display_data"
    }
   ],
   "source": [
    "%%markdown\n",
    "# Bank1 file\n",
    "Progetto AIapp"
   ]
  },
  {
   "cell_type": "code",
   "execution_count": null,
   "id": "bbef3feb",
   "metadata": {},
   "outputs": [],
   "source": []
  }
 ],
 "metadata": {
  "kernelspec": {
   "display_name": "Python 3 (ipykernel)",
   "language": "python",
   "name": "python3"
  },
  "language_info": {
   "codemirror_mode": {
    "name": "ipython",
    "version": 3
   },
   "file_extension": ".py",
   "mimetype": "text/x-python",
   "name": "python",
   "nbconvert_exporter": "python",
   "pygments_lexer": "ipython3",
   "version": "3.10.11"
  }
 },
 "nbformat": 4,
 "nbformat_minor": 5
}
